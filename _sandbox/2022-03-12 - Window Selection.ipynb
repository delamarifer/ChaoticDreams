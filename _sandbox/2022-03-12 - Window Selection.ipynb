{
 "cells": [
  {
   "cell_type": "code",
   "execution_count": 1,
   "id": "fb7694a7",
   "metadata": {},
   "outputs": [],
   "source": [
    "import matplotlib.pyplot as plt\n",
    "import mne\n",
    "import numpy as np\n",
    "import os\n",
    "import pandas as pd\n",
    "import re\n",
    "import sys\n",
    "from tqdm.auto import tqdm\n",
    "\n",
    "sys.path.append('..')\n",
    "from dynamical_models import compute_VAR"
   ]
  },
  {
   "cell_type": "markdown",
   "id": "1a8caec4",
   "metadata": {},
   "source": [
    "# Load Data"
   ]
  },
  {
   "cell_type": "code",
   "execution_count": 2,
   "id": "63e6e23b",
   "metadata": {},
   "outputs": [],
   "source": [
    "dt = 0.01\n",
    "subject_id = 'SC4001'\n",
    "# subject_id = 'SC4401'\n",
    "# subject_id = 'SC4591'\n",
    "# subject_id = 'ST7011'\n",
    "\n",
    "all_data_dir = os.path.join(\"/om/user/eisenaj/datasets/sleep/sleep-edf-database\")"
   ]
  },
  {
   "cell_type": "code",
   "execution_count": 3,
   "id": "35ddfa7b",
   "metadata": {},
   "outputs": [
    {
     "name": "stdout",
     "output_type": "stream",
     "text": [
      "Extracting EDF parameters from /om/user/eisenaj/datasets/sleep/sleep-edf-database/sleep-cassette/SC4001E0-PSG.edf...\n",
      "EDF file detected\n",
      "Setting channel info structure...\n",
      "Creating raw.info structure...\n"
     ]
    }
   ],
   "source": [
    "if subject_id[1] == 'C':\n",
    "    data_folder = os.path.join(all_data_dir, 'sleep-cassette')\n",
    "else: # subject_id[1] == 'T'\n",
    "    data_folder = os.path.join(all_data_dir, 'sleep-telemetry')\n",
    "\n",
    "eeg_regex = re.compile(f\"{subject_id}\" + \".{2}-PSG.edf\")\n",
    "hypnogram_regex = re.compile(f\"{subject_id}\" + \".{2}-Hypnogram.edf\")\n",
    "\n",
    "eeg_path = None\n",
    "hypnogram_path = None\n",
    "for file_name in os.listdir(data_folder):\n",
    "    if eeg_regex.match(file_name):\n",
    "        eeg_path = os.path.join(data_folder, file_name)\n",
    "    elif hypnogram_regex.match(file_name):\n",
    "        hypnogram_path = os.path.join(data_folder, file_name)\n",
    "\n",
    "if eeg_path is None or hypnogram_path is None:\n",
    "    print(f\"Failed to find data for subject ID {subject_id}\")\n",
    "\n",
    "eeg = mne.io.read_raw_edf(eeg_path)\n",
    "eeg_df = eeg.to_data_frame()\n",
    "hypnogram = mne.read_annotations(hypnogram_path)\n",
    "hypnogram_df = hypnogram.to_data_frame()"
   ]
  },
  {
   "cell_type": "code",
   "execution_count": 4,
   "id": "598630b6",
   "metadata": {},
   "outputs": [],
   "source": [
    "start_time = 0\n",
    "hypnogram_df['sleep_stage'] = [None]*len(hypnogram_df)\n",
    "hypnogram_df['start_time'] = [None]*len(hypnogram_df)\n",
    "hypnogram_df['end_time'] = [None]*len(hypnogram_df)\n",
    "for i, row in hypnogram_df.iterrows():\n",
    "    hypnogram_df.loc[i, 'sleep_stage'] = row.description[-1]\n",
    "    hypnogram_df.loc[i, 'start_time'] = start_time\n",
    "    hypnogram_df.loc[i, 'end_time'] = start_time + row.duration\n",
    "    start_time += row.duration"
   ]
  },
  {
   "cell_type": "code",
   "execution_count": 5,
   "id": "4d375678",
   "metadata": {},
   "outputs": [
    {
     "data": {
      "application/vnd.jupyter.widget-view+json": {
       "model_id": "34ba4f0d500b4ea2b4478e92674031b3",
       "version_major": 2,
       "version_minor": 0
      },
      "text/plain": [
       "  0%|          | 0/154 [00:00<?, ?it/s]"
      ]
     },
     "metadata": {},
     "output_type": "display_data"
    }
   ],
   "source": [
    "eeg_df['sleep_stage'] = [None]*len(eeg_df)\n",
    "place_in_session = 0\n",
    "for i, row in tqdm(hypnogram_df.iterrows(), total=len(hypnogram_df)):\n",
    "    if i == 0:\n",
    "        indices = eeg_df.time <= place_in_session + int(row.duration/0.001)\n",
    "    else:\n",
    "        indices = np.logical_and(eeg_df.time > place_in_session, eeg_df.time <= place_in_session + int(row.duration/0.001))\n",
    "    eeg_df.loc[indices, 'sleep_stage'] = row.description[-1]\n",
    "    place_in_session += int(row.duration/0.001)"
   ]
  },
  {
   "cell_type": "markdown",
   "id": "ea2d6c25",
   "metadata": {},
   "source": [
    "## Window Selection"
   ]
  },
  {
   "cell_type": "code",
   "execution_count": 6,
   "id": "f4a64af6",
   "metadata": {},
   "outputs": [],
   "source": [
    "all_eeg = np.zeros((len(eeg_df), 2))\n",
    "all_eeg[:, 0] = eeg_df['EEG Fpz-Cz']\n",
    "all_eeg[:, 1] = eeg_df['EEG Pz-Oz']"
   ]
  },
  {
   "cell_type": "code",
   "execution_count": null,
   "id": "d3d739ba",
   "metadata": {},
   "outputs": [],
   "source": [
    "VAR_results = {}\n",
    "windows = [int(w) if w % 1 == 0 else w for w in np.arange(0.5, 10.5, 0.5)]"
   ]
  },
  {
   "cell_type": "code",
   "execution_count": 50,
   "id": "19558810",
   "metadata": {},
   "outputs": [],
   "source": [
    "windows = [0.1, 0.2, 0.3, 0.4]"
   ]
  },
  {
   "cell_type": "code",
   "execution_count": 51,
   "id": "e646ffc4",
   "metadata": {},
   "outputs": [
    {
     "name": "stdout",
     "output_type": "stream",
     "text": [
      "now computing window = 0.1\n"
     ]
    },
    {
     "data": {
      "application/vnd.jupyter.widget-view+json": {
       "model_id": "203835412a5749aaaa833be93a15f7f2",
       "version_major": 2,
       "version_minor": 0
      },
      "text/plain": [
       "  0%|          | 0/795000 [00:00<?, ?it/s]"
      ]
     },
     "metadata": {},
     "output_type": "display_data"
    },
    {
     "name": "stdout",
     "output_type": "stream",
     "text": [
      "now computing window = 0.2\n"
     ]
    },
    {
     "data": {
      "application/vnd.jupyter.widget-view+json": {
       "model_id": "311a2b081c6a47ff9e5fc80e64beb1d7",
       "version_major": 2,
       "version_minor": 0
      },
      "text/plain": [
       "  0%|          | 0/397500 [00:00<?, ?it/s]"
      ]
     },
     "metadata": {},
     "output_type": "display_data"
    },
    {
     "name": "stdout",
     "output_type": "stream",
     "text": [
      "now computing window = 0.3\n"
     ]
    },
    {
     "data": {
      "application/vnd.jupyter.widget-view+json": {
       "model_id": "0cba7a6621604233b3655c3973b530f2",
       "version_major": 2,
       "version_minor": 0
      },
      "text/plain": [
       "  0%|          | 0/265000 [00:00<?, ?it/s]"
      ]
     },
     "metadata": {},
     "output_type": "display_data"
    },
    {
     "name": "stdout",
     "output_type": "stream",
     "text": [
      "now computing window = 0.4\n"
     ]
    },
    {
     "data": {
      "application/vnd.jupyter.widget-view+json": {
       "model_id": "d839984ecd1c4fe1b7f074496c4777df",
       "version_major": 2,
       "version_minor": 0
      },
      "text/plain": [
       "  0%|          | 0/198750 [00:00<?, ?it/s]"
      ]
     },
     "metadata": {},
     "output_type": "display_data"
    }
   ],
   "source": [
    "for window in windows:\n",
    "    print(f\"now computing window = {window}\")\n",
    "    stride = window\n",
    "\n",
    "    num_windows = int(np.floor((all_eeg.shape[0]-int(window/dt))/int(stride/dt))+1)\n",
    "\n",
    "    all_results = []\n",
    "    for i in tqdm(range(num_windows)):\n",
    "        start_ind = int(i*stride/dt)\n",
    "        end_ind = int((i*stride + window)/dt)\n",
    "        window_data = all_eeg[start_ind:end_ind]\n",
    "\n",
    "        try:\n",
    "            results = compute_VAR(window_data)\n",
    "            results['start_time'] = i*stride\n",
    "            results['start_time_ms'] = i*stride*1000\n",
    "            results['start_ind'] = start_ind\n",
    "            results['end_time'] = i*stride + window\n",
    "            results['end_time_ms'] = (i*stride + window)*1000\n",
    "            results['end_ind'] = end_ind\n",
    "            all_results.append(results)\n",
    "        except:\n",
    "            pass\n",
    "            # sometimes this doesn't work because the EEG isn't aligned at the beginning/end\n",
    "    VAR_results[window] = pd.DataFrame(all_results)"
   ]
  },
  {
   "cell_type": "code",
   "execution_count": null,
   "id": "3afdd0f3",
   "metadata": {},
   "outputs": [],
   "source": [
    "T_pred = 10\n",
    "\n",
    "predictions = {}\n",
    "true_vals = {}\n",
    "step_mse = {}"
   ]
  },
  {
   "cell_type": "code",
   "execution_count": 52,
   "id": "f3344575",
   "metadata": {},
   "outputs": [
    {
     "name": "stdout",
     "output_type": "stream",
     "text": [
      "Now computing window = 0.1\n"
     ]
    },
    {
     "data": {
      "application/vnd.jupyter.widget-view+json": {
       "model_id": "0790919ba11743ffb1f39ba4ec5d3ac1",
       "version_major": 2,
       "version_minor": 0
      },
      "text/plain": [
       "  0%|          | 0/794980 [00:00<?, ?it/s]"
      ]
     },
     "metadata": {},
     "output_type": "display_data"
    },
    {
     "name": "stdout",
     "output_type": "stream",
     "text": [
      "Now computing window = 0.2\n"
     ]
    },
    {
     "data": {
      "application/vnd.jupyter.widget-view+json": {
       "model_id": "5c77888071d04fa6a4a4806b6cd02fdc",
       "version_major": 2,
       "version_minor": 0
      },
      "text/plain": [
       "  0%|          | 0/397499 [00:00<?, ?it/s]"
      ]
     },
     "metadata": {},
     "output_type": "display_data"
    },
    {
     "name": "stdout",
     "output_type": "stream",
     "text": [
      "Now computing window = 0.3\n"
     ]
    },
    {
     "data": {
      "application/vnd.jupyter.widget-view+json": {
       "model_id": "b231362a20e54febb33b8f15151382ac",
       "version_major": 2,
       "version_minor": 0
      },
      "text/plain": [
       "  0%|          | 0/264999 [00:00<?, ?it/s]"
      ]
     },
     "metadata": {},
     "output_type": "display_data"
    },
    {
     "name": "stdout",
     "output_type": "stream",
     "text": [
      "Now computing window = 0.4\n"
     ]
    },
    {
     "data": {
      "application/vnd.jupyter.widget-view+json": {
       "model_id": "ada40c3e9d5849418fb4213f793bcf2c",
       "version_major": 2,
       "version_minor": 0
      },
      "text/plain": [
       "  0%|          | 0/198749 [00:00<?, ?it/s]"
      ]
     },
     "metadata": {},
     "output_type": "display_data"
    }
   ],
   "source": [
    "for window in windows:\n",
    "    stride = window\n",
    "    print(f\"Now computing window = {window}\")\n",
    "    predictions[window] = np.zeros((len(VAR_results[window]) - 1, T_pred, all_eeg.shape[1]))\n",
    "    true_vals[window] = np.zeros(predictions[window].shape)\n",
    "\n",
    "    for i in tqdm(range(predictions[window].shape[0])):\n",
    "        row = VAR_results[window].iloc[i]\n",
    "        start_step = int(stride*i/dt)\n",
    "        x0 = all_eeg[start_step + int(window/dt) - 1]\n",
    "\n",
    "        for t in range(T_pred):\n",
    "            if t == 0:\n",
    "                predictions[window][i, t] = np.hstack([[1], x0]) @ row.A_mat_with_bias\n",
    "            else:\n",
    "                predictions[window][i, t] = np.hstack([[1], predictions[window][i, t - 1]]) @ row.A_mat_with_bias\n",
    "\n",
    "        true_vals[window][i] = all_eeg[start_step + int(window/dt):start_step + int(window/dt) + T_pred]\n",
    "\n",
    "    step_mse[window] = ((predictions[window] - true_vals[window])**2).mean(axis=2)"
   ]
  },
  {
   "cell_type": "code",
   "execution_count": 53,
   "id": "81327fc2",
   "metadata": {},
   "outputs": [],
   "source": [
    "windows = [0.1, 0.2, 0.3, 0.4]\n",
    "windows.extend([int(w) if w % 1 == 0 else w for w in np.arange(0.5, 10.5, 0.5)])\n",
    "windows.extend(np.arange(11, 31))"
   ]
  },
  {
   "cell_type": "code",
   "execution_count": 54,
   "id": "0b52c907",
   "metadata": {},
   "outputs": [],
   "source": [
    "pred_steps = 10\n",
    "window_mses = [step_mse[window][pred_steps - 1].mean() for window in windows]"
   ]
  },
  {
   "cell_type": "code",
   "execution_count": 57,
   "id": "796da3e4",
   "metadata": {},
   "outputs": [
    {
     "data": {
      "image/png": "[encoded data removed]",
      "text/plain": [
       "<Figure size 432x288 with 1 Axes>"
      ]
     },
     "metadata": {
      "needs_background": "light"
     },
     "output_type": "display_data"
    }
   ],
   "source": [
    "plt.plot(windows, window_mses)\n",
    "plt.xlabel(\"Window Size (s)\")\n",
    "plt.ylabel(\"MSE\")\n",
    "plt.show()"
   ]
  },
  {
   "cell_type": "code",
   "execution_count": 46,
   "id": "e8dfdc4d",
   "metadata": {},
   "outputs": [
    {
     "data": {
      "image/png": "[encoded data removed]",
      "text/plain": [
       "<Figure size 432x288 with 1 Axes>"
      ]
     },
     "metadata": {
      "needs_background": "light"
     },
     "output_type": "display_data"
    }
   ],
   "source": [
    "window = 30\n",
    "window_ind = 2000\n",
    "eeg_ind = 0\n",
    "plt.plot(all_eeg[(window_ind+1)*window:(window_ind+1)*window + T_pred, eeg_ind], label='true')\n",
    "plt.plot(predictions[window][window_ind, :, eeg_ind], label='predicted')\n",
    "\n",
    "plt.show()"
   ]
  },
  {
   "cell_type": "code",
   "execution_count": 48,
   "id": "92ffcdeb",
   "metadata": {},
   "outputs": [
    {
     "data": {
      "text/html": [
       "<div>\n",
       "<style scoped>\n",
       "    .dataframe tbody tr th:only-of-type {\n",
       "        vertical-align: middle;\n",
       "    }\n",
       "\n",
       "    .dataframe tbody tr th {\n",
       "        vertical-align: top;\n",
       "    }\n",
       "\n",
       "    .dataframe thead th {\n",
       "        text-align: right;\n",
       "    }\n",
       "</style>\n",
       "<table border=\"1\" class=\"dataframe\">\n",
       "  <thead>\n",
       "    <tr style=\"text-align: right;\">\n",
       "      <th></th>\n",
       "      <th>explained_variance</th>\n",
       "      <th>A_mat</th>\n",
       "      <th>A_mat_with_bias</th>\n",
       "      <th>eigs</th>\n",
       "      <th>criticality_inds</th>\n",
       "      <th>sigma2_ML</th>\n",
       "      <th>AIC</th>\n",
       "      <th>sigma_norm</th>\n",
       "      <th>start_time</th>\n",
       "      <th>start_time_ms</th>\n",
       "      <th>start_ind</th>\n",
       "      <th>end_time</th>\n",
       "      <th>end_time_ms</th>\n",
       "      <th>end_ind</th>\n",
       "    </tr>\n",
       "  </thead>\n",
       "  <tbody>\n",
       "    <tr>\n",
       "      <th>0</th>\n",
       "      <td>None</td>\n",
       "      <td>[[0.9634810317792123, 0.0736344857285943], [0....</td>\n",
       "      <td>[[0.04999137008040016, -0.05457139275295817], ...</td>\n",
       "      <td>[0.971901972563386, 0.8327254238459885]</td>\n",
       "      <td>[0.971901972563386, 0.8327254238459885]</td>\n",
       "      <td>7.111462</td>\n",
       "      <td>5887.123647</td>\n",
       "      <td>80.105940</td>\n",
       "      <td>0</td>\n",
       "      <td>0</td>\n",
       "      <td>0</td>\n",
       "      <td>30</td>\n",
       "      <td>30000</td>\n",
       "      <td>3000</td>\n",
       "    </tr>\n",
       "    <tr>\n",
       "      <th>1</th>\n",
       "      <td>None</td>\n",
       "      <td>[[0.8662883042193071, 0.11373429582323705], [0...</td>\n",
       "      <td>[[-0.02446621841568477, -0.20211566475367576],...</td>\n",
       "      <td>[0.8777796028843405, 0.43360298956441745]</td>\n",
       "      <td>[0.8777796028843405, 0.43360298956441745]</td>\n",
       "      <td>10.843944</td>\n",
       "      <td>7152.820337</td>\n",
       "      <td>164.716012</td>\n",
       "      <td>30</td>\n",
       "      <td>30000</td>\n",
       "      <td>3000</td>\n",
       "      <td>60</td>\n",
       "      <td>60000</td>\n",
       "      <td>6000</td>\n",
       "    </tr>\n",
       "    <tr>\n",
       "      <th>2</th>\n",
       "      <td>None</td>\n",
       "      <td>[[0.9261279878976012, 0.10195944189119925], [0...</td>\n",
       "      <td>[[0.10660965605344996, -0.08004120955060712], ...</td>\n",
       "      <td>[0.9385538726622957, 0.7996315665933637]</td>\n",
       "      <td>[0.9385538726622957, 0.7996315665933637]</td>\n",
       "      <td>9.845107</td>\n",
       "      <td>6862.923634</td>\n",
       "      <td>129.672443</td>\n",
       "      <td>60</td>\n",
       "      <td>60000</td>\n",
       "      <td>6000</td>\n",
       "      <td>90</td>\n",
       "      <td>90000</td>\n",
       "      <td>9000</td>\n",
       "    </tr>\n",
       "    <tr>\n",
       "      <th>3</th>\n",
       "      <td>None</td>\n",
       "      <td>[[0.9202684869610434, 0.009342802680784438], [...</td>\n",
       "      <td>[[-0.014479506923611997, -0.02158316084422802]...</td>\n",
       "      <td>[0.9203752299344727, 0.8474222857765868]</td>\n",
       "      <td>[0.9203752299344727, 0.8474222857765868]</td>\n",
       "      <td>7.346234</td>\n",
       "      <td>5984.563445</td>\n",
       "      <td>49.829130</td>\n",
       "      <td>90</td>\n",
       "      <td>90000</td>\n",
       "      <td>9000</td>\n",
       "      <td>120</td>\n",
       "      <td>120000</td>\n",
       "      <td>12000</td>\n",
       "    </tr>\n",
       "    <tr>\n",
       "      <th>4</th>\n",
       "      <td>None</td>\n",
       "      <td>[[0.9170204482704877, -0.01749802590883481], [...</td>\n",
       "      <td>[[0.01707518456586975, -0.022163892092107954],...</td>\n",
       "      <td>[0.9156460899359619, 0.8581634104042627]</td>\n",
       "      <td>[0.9156460899359619, 0.8581634104042627]</td>\n",
       "      <td>7.251713</td>\n",
       "      <td>5945.713037</td>\n",
       "      <td>46.604088</td>\n",
       "      <td>120</td>\n",
       "      <td>120000</td>\n",
       "      <td>12000</td>\n",
       "      <td>150</td>\n",
       "      <td>150000</td>\n",
       "      <td>15000</td>\n",
       "    </tr>\n",
       "    <tr>\n",
       "      <th>...</th>\n",
       "      <td>...</td>\n",
       "      <td>...</td>\n",
       "      <td>...</td>\n",
       "      <td>...</td>\n",
       "      <td>...</td>\n",
       "      <td>...</td>\n",
       "      <td>...</td>\n",
       "      <td>...</td>\n",
       "      <td>...</td>\n",
       "      <td>...</td>\n",
       "      <td>...</td>\n",
       "      <td>...</td>\n",
       "      <td>...</td>\n",
       "      <td>...</td>\n",
       "    </tr>\n",
       "    <tr>\n",
       "      <th>2645</th>\n",
       "      <td>None</td>\n",
       "      <td>[[0.9036265867243417, 0.03151121082213749], [0...</td>\n",
       "      <td>[[0.005894330748547966, -0.13187238712455784],...</td>\n",
       "      <td>[0.9053785995339952, 0.7007772102641588]</td>\n",
       "      <td>[0.9053785995339952, 0.7007772102641588]</td>\n",
       "      <td>7.822563</td>\n",
       "      <td>6173.036623</td>\n",
       "      <td>83.483352</td>\n",
       "      <td>79350</td>\n",
       "      <td>79350000</td>\n",
       "      <td>7935000</td>\n",
       "      <td>79380</td>\n",
       "      <td>79380000</td>\n",
       "      <td>7938000</td>\n",
       "    </tr>\n",
       "    <tr>\n",
       "      <th>2646</th>\n",
       "      <td>None</td>\n",
       "      <td>[[0.9202018342113728, 0.03762757674286538], [0...</td>\n",
       "      <td>[[0.025385303079737038, -0.025324169254399065]...</td>\n",
       "      <td>[0.9230035000892225, 0.6202405338311662]</td>\n",
       "      <td>[0.9230035000892225, 0.6202405338311662]</td>\n",
       "      <td>9.291515</td>\n",
       "      <td>6689.304890</td>\n",
       "      <td>106.225142</td>\n",
       "      <td>79380</td>\n",
       "      <td>79380000</td>\n",
       "      <td>7938000</td>\n",
       "      <td>79410</td>\n",
       "      <td>79410000</td>\n",
       "      <td>7941000</td>\n",
       "    </tr>\n",
       "    <tr>\n",
       "      <th>2647</th>\n",
       "      <td>None</td>\n",
       "      <td>[[0.887373010062635, 0.05580370336791244], [0....</td>\n",
       "      <td>[[0.06372547840476783, -0.06725856481117984], ...</td>\n",
       "      <td>[0.8970199072624105, 0.8473292657163403]</td>\n",
       "      <td>[0.8970199072624105, 0.8473292657163403]</td>\n",
       "      <td>6.957875</td>\n",
       "      <td>5821.622163</td>\n",
       "      <td>75.813816</td>\n",
       "      <td>79410</td>\n",
       "      <td>79410000</td>\n",
       "      <td>7941000</td>\n",
       "      <td>79440</td>\n",
       "      <td>79440000</td>\n",
       "      <td>7944000</td>\n",
       "    </tr>\n",
       "    <tr>\n",
       "      <th>2648</th>\n",
       "      <td>None</td>\n",
       "      <td>[[0.9168085979409996, 0.09424491180983939], [0...</td>\n",
       "      <td>[[0.021953546781374764, -0.10796103080458075],...</td>\n",
       "      <td>[0.9327143716550411, 0.6885561685577026]</td>\n",
       "      <td>[0.9327143716550411, 0.6885561685577026]</td>\n",
       "      <td>8.480773</td>\n",
       "      <td>6415.404804</td>\n",
       "      <td>91.014728</td>\n",
       "      <td>79440</td>\n",
       "      <td>79440000</td>\n",
       "      <td>7944000</td>\n",
       "      <td>79470</td>\n",
       "      <td>79470000</td>\n",
       "      <td>7947000</td>\n",
       "    </tr>\n",
       "    <tr>\n",
       "      <th>2649</th>\n",
       "      <td>None</td>\n",
       "      <td>[[0.9221911677136334, 0.02400756456741103], [0...</td>\n",
       "      <td>[[0.02489250217359987, 0.008301683922775673], ...</td>\n",
       "      <td>[0.9239276278227695, 0.6860526390789908]</td>\n",
       "      <td>[0.9239276278227695, 0.6860526390789908]</td>\n",
       "      <td>9.078429</td>\n",
       "      <td>6619.703469</td>\n",
       "      <td>96.810342</td>\n",
       "      <td>79470</td>\n",
       "      <td>79470000</td>\n",
       "      <td>7947000</td>\n",
       "      <td>79500</td>\n",
       "      <td>79500000</td>\n",
       "      <td>7950000</td>\n",
       "    </tr>\n",
       "  </tbody>\n",
       "</table>\n",
       "<p>2650 rows × 14 columns</p>\n",
       "</div>"
      ],
      "text/plain": [
       "     explained_variance                                              A_mat  \\\n",
       "0                  None  [[0.9634810317792123, 0.0736344857285943], [0....   \n",
       "1                  None  [[0.8662883042193071, 0.11373429582323705], [0...   \n",
       "2                  None  [[0.9261279878976012, 0.10195944189119925], [0...   \n",
       "3                  None  [[0.9202684869610434, 0.009342802680784438], [...   \n",
       "4                  None  [[0.9170204482704877, -0.01749802590883481], [...   \n",
       "...                 ...                                                ...   \n",
       "2645               None  [[0.9036265867243417, 0.03151121082213749], [0...   \n",
       "2646               None  [[0.9202018342113728, 0.03762757674286538], [0...   \n",
       "2647               None  [[0.887373010062635, 0.05580370336791244], [0....   \n",
       "2648               None  [[0.9168085979409996, 0.09424491180983939], [0...   \n",
       "2649               None  [[0.9221911677136334, 0.02400756456741103], [0...   \n",
       "\n",
       "                                        A_mat_with_bias  \\\n",
       "0     [[0.04999137008040016, -0.05457139275295817], ...   \n",
       "1     [[-0.02446621841568477, -0.20211566475367576],...   \n",
       "2     [[0.10660965605344996, -0.08004120955060712], ...   \n",
       "3     [[-0.014479506923611997, -0.02158316084422802]...   \n",
       "4     [[0.01707518456586975, -0.022163892092107954],...   \n",
       "...                                                 ...   \n",
       "2645  [[0.005894330748547966, -0.13187238712455784],...   \n",
       "2646  [[0.025385303079737038, -0.025324169254399065]...   \n",
       "2647  [[0.06372547840476783, -0.06725856481117984], ...   \n",
       "2648  [[0.021953546781374764, -0.10796103080458075],...   \n",
       "2649  [[0.02489250217359987, 0.008301683922775673], ...   \n",
       "\n",
       "                                           eigs  \\\n",
       "0       [0.971901972563386, 0.8327254238459885]   \n",
       "1     [0.8777796028843405, 0.43360298956441745]   \n",
       "2      [0.9385538726622957, 0.7996315665933637]   \n",
       "3      [0.9203752299344727, 0.8474222857765868]   \n",
       "4      [0.9156460899359619, 0.8581634104042627]   \n",
       "...                                         ...   \n",
       "2645   [0.9053785995339952, 0.7007772102641588]   \n",
       "2646   [0.9230035000892225, 0.6202405338311662]   \n",
       "2647   [0.8970199072624105, 0.8473292657163403]   \n",
       "2648   [0.9327143716550411, 0.6885561685577026]   \n",
       "2649   [0.9239276278227695, 0.6860526390789908]   \n",
       "\n",
       "                               criticality_inds  sigma2_ML          AIC  \\\n",
       "0       [0.971901972563386, 0.8327254238459885]   7.111462  5887.123647   \n",
       "1     [0.8777796028843405, 0.43360298956441745]  10.843944  7152.820337   \n",
       "2      [0.9385538726622957, 0.7996315665933637]   9.845107  6862.923634   \n",
       "3      [0.9203752299344727, 0.8474222857765868]   7.346234  5984.563445   \n",
       "4      [0.9156460899359619, 0.8581634104042627]   7.251713  5945.713037   \n",
       "...                                         ...        ...          ...   \n",
       "2645   [0.9053785995339952, 0.7007772102641588]   7.822563  6173.036623   \n",
       "2646   [0.9230035000892225, 0.6202405338311662]   9.291515  6689.304890   \n",
       "2647   [0.8970199072624105, 0.8473292657163403]   6.957875  5821.622163   \n",
       "2648   [0.9327143716550411, 0.6885561685577026]   8.480773  6415.404804   \n",
       "2649   [0.9239276278227695, 0.6860526390789908]   9.078429  6619.703469   \n",
       "\n",
       "      sigma_norm  start_time  start_time_ms  start_ind  end_time  end_time_ms  \\\n",
       "0      80.105940           0              0          0        30        30000   \n",
       "1     164.716012          30          30000       3000        60        60000   \n",
       "2     129.672443          60          60000       6000        90        90000   \n",
       "3      49.829130          90          90000       9000       120       120000   \n",
       "4      46.604088         120         120000      12000       150       150000   \n",
       "...          ...         ...            ...        ...       ...          ...   \n",
       "2645   83.483352       79350       79350000    7935000     79380     79380000   \n",
       "2646  106.225142       79380       79380000    7938000     79410     79410000   \n",
       "2647   75.813816       79410       79410000    7941000     79440     79440000   \n",
       "2648   91.014728       79440       79440000    7944000     79470     79470000   \n",
       "2649   96.810342       79470       79470000    7947000     79500     79500000   \n",
       "\n",
       "      end_ind  \n",
       "0        3000  \n",
       "1        6000  \n",
       "2        9000  \n",
       "3       12000  \n",
       "4       15000  \n",
       "...       ...  \n",
       "2645  7938000  \n",
       "2646  7941000  \n",
       "2647  7944000  \n",
       "2648  7947000  \n",
       "2649  7950000  \n",
       "\n",
       "[2650 rows x 14 columns]"
      ]
     },
     "execution_count": 48,
     "metadata": {},
     "output_type": "execute_result"
    }
   ],
   "source": [
    "VAR_results[30]"
   ]
  },
  {
   "cell_type": "code",
   "execution_count": null,
   "id": "19e05d43",
   "metadata": {},
   "outputs": [],
   "source": []
  }
 ],
 "metadata": {
  "kernelspec": {
   "display_name": "Python 3 (ipykernel)",
   "language": "python",
   "name": "python3"
  },
  "language_info": {
   "codemirror_mode": {
    "name": "ipython",
    "version": 3
   },
   "file_extension": ".py",
   "mimetype": "text/x-python",
   "name": "python",
   "nbconvert_exporter": "python",
   "pygments_lexer": "ipython3",
   "version": "3.9.1"
  }
 },
 "nbformat": 4,
 "nbformat_minor": 5
}
