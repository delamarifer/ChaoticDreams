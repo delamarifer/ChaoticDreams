{
 "cells": [
  {
   "cell_type": "code",
   "execution_count": 1,
   "id": "a82deae9",
   "metadata": {},
   "outputs": [],
   "source": [
    "%load_ext autoreload"
   ]
  },
  {
   "cell_type": "code",
   "execution_count": 2,
   "id": "01e74d29",
   "metadata": {},
   "outputs": [],
   "source": [
    "%autoreload 2\n",
    "from glob import glob\n",
    "import matplotlib.pyplot as plt\n",
    "import mne\n",
    "import numpy as np\n",
    "import os\n",
    "import pandas as pd\n",
    "import re\n",
    "import scipy\n",
    "import sys\n",
    "from tqdm.auto import tqdm\n",
    "\n",
    "sys.path.append('..')\n",
    "from dynamical_models import compute_VAR"
   ]
  },
  {
   "cell_type": "markdown",
   "id": "ad21e4f4",
   "metadata": {},
   "source": [
    "# Load Data"
   ]
  },
  {
   "cell_type": "code",
   "execution_count": 3,
   "id": "1380279a",
   "metadata": {},
   "outputs": [],
   "source": [
    "EEG_dir = '/om/user/eisenaj/datasets/Get_Sleep_data/EEG'\n",
    "annotation_dir = '/om/user/eisenaj/datasets/Get_Sleep_data/annotations'"
   ]
  },
  {
   "cell_type": "code",
   "execution_count": 49,
   "id": "3ee0fa85",
   "metadata": {},
   "outputs": [],
   "source": [
    "sub = 25\n",
    "# sub = 29\n",
    "day = 2"
   ]
  },
  {
   "cell_type": "code",
   "execution_count": 56,
   "id": "a6474dc4",
   "metadata": {},
   "outputs": [
    {
     "name": "stdout",
     "output_type": "stream",
     "text": [
      "Extracting parameters from /om/user/eisenaj/datasets/Get_Sleep_data/EEG/suj25_l5nap_day2.vhdr...\n",
      "Setting channel info structure...\n",
      "Reading 0 ... 1638399  =      0.000 ...  1638.399 secs...\n",
      "Filtering raw data in 1 contiguous segment\n",
      "Setting up band-pass filter from 0.5 - 1e+02 Hz\n",
      "\n",
      "FIR filter parameters\n",
      "---------------------\n",
      "Designing a one-pass, zero-phase, non-causal bandpass filter:\n",
      "- Windowed time-domain design (firwin) method\n",
      "- Hamming window with 0.0194 passband ripple and 53 dB stopband attenuation\n",
      "- Lower passband edge: 0.50\n",
      "- Lower transition bandwidth: 0.50 Hz (-6 dB cutoff frequency: 0.25 Hz)\n",
      "- Upper passband edge: 100.00 Hz\n",
      "- Upper transition bandwidth: 25.00 Hz (-6 dB cutoff frequency: 112.50 Hz)\n",
      "- Filter length: 6601 samples (6.601 sec)\n",
      "\n"
     ]
    }
   ],
   "source": [
    "# load the data\n",
    "raw = mne.io.read_raw_brainvision(\n",
    "        glob(os.path.join(EEG_dir,f'suj{sub}_' + 'l*' + f'nap_day{day}.vhdr'))[0],\n",
    "        preload = True)\n",
    "# set the EOG channels\n",
    "channel_types = {'LOc':'eog','ROc':'eog','Aux1':'misc'}\n",
    "raw.set_channel_types(channel_types)\n",
    "raw.filter(0.5, 100)\n",
    "dt = 1/raw.info['sfreq']\n",
    "eeg_df = raw.to_data_frame()"
   ]
  },
  {
   "cell_type": "code",
   "execution_count": 57,
   "id": "a75727a7",
   "metadata": {},
   "outputs": [],
   "source": [
    "all_electrodes = [c for c in eeg_df.columns if c not in ['time', 'LOc', 'ROc', 'Aux1']]\n",
    "all_eeg = eeg_df[all_electrodes].to_numpy()"
   ]
  },
  {
   "cell_type": "code",
   "execution_count": 58,
   "id": "c49366d6",
   "metadata": {},
   "outputs": [
    {
     "data": {
      "text/plain": [
       "(True, True)"
      ]
     },
     "execution_count": 58,
     "metadata": {},
     "output_type": "execute_result"
    }
   ],
   "source": [
    "'Fp1' in all_electrodes, 'Fp2' in all_electrodes"
   ]
  },
  {
   "cell_type": "code",
   "execution_count": 59,
   "id": "955e365c",
   "metadata": {},
   "outputs": [],
   "source": [
    "# read annotations\n",
    "events = pd.read_csv(os.path.join(annotation_dir,\n",
    "                                    f'suj{sub}_day{day}_annotations.txt'))"
   ]
  },
  {
   "cell_type": "code",
   "execution_count": 60,
   "id": "cb42ca36",
   "metadata": {},
   "outputs": [
    {
     "data": {
      "application/vnd.jupyter.widget-view+json": {
       "model_id": "1d1ec63492dc493f8e9246fa58742697",
       "version_major": 2,
       "version_minor": 0
      },
      "text/plain": [
       "  0%|          | 0/151 [00:00<?, ?it/s]"
      ]
     },
     "metadata": {},
     "output_type": "display_data"
    }
   ],
   "source": [
    "sleep_stages = []\n",
    "ontime = None\n",
    "for i, row in tqdm(events.iterrows(), total=len(events)):\n",
    "#     print(row.Annotation)\n",
    "    if row.Annotation != 'spindle' and row.Annotation != 'k-complex' and row.Annotation != 'spindle ' and row.Annotation != 'spindles':\n",
    "        if row.Annotation.split(':')[1] == 'Markon' or row.Annotation.split(':')[1] == ' Markon':\n",
    "            ontime = row.Onset\n",
    "        elif row.Annotation.split(':')[1] == 'Markoff' or row.Annotation.split(':')[1] == ' Markoff':\n",
    "            stage = row.Annotation.split(':')[-1]\n",
    "            if stage == ' w':\n",
    "                stage = 'w'\n",
    "            elif stage == ' 1':\n",
    "                stage = '1'\n",
    "            elif stage == ' 2':\n",
    "                stage = '2'\n",
    "            sleep_stages.append(dict(\n",
    "                start_time=ontime,\n",
    "                end_time=row.Onset,\n",
    "                duration=row.Onset - ontime,\n",
    "                sleep_stage=stage\n",
    "            ))\n",
    "hypnogram_df = pd.DataFrame(sleep_stages)"
   ]
  },
  {
   "cell_type": "code",
   "execution_count": 61,
   "id": "66d92822",
   "metadata": {},
   "outputs": [
    {
     "data": {
      "text/plain": [
       "array(['w', '1', '2'], dtype=object)"
      ]
     },
     "execution_count": 61,
     "metadata": {},
     "output_type": "execute_result"
    }
   ],
   "source": [
    "hypnogram_df.sleep_stage.unique()"
   ]
  },
  {
   "cell_type": "markdown",
   "id": "af58661a",
   "metadata": {},
   "source": [
    "# Compute VAR"
   ]
  },
  {
   "cell_type": "code",
   "execution_count": 62,
   "id": "fbacfcbe",
   "metadata": {},
   "outputs": [
    {
     "name": "stdout",
     "output_type": "stream",
     "text": [
      "now computing area = frontal, window = 0.2\n"
     ]
    },
    {
     "data": {
      "application/vnd.jupyter.widget-view+json": {
       "model_id": "29e13efede414fcf99d896a76188bab4",
       "version_major": 2,
       "version_minor": 0
      },
      "text/plain": [
       "  0%|          | 0/8192 [00:00<?, ?it/s]"
      ]
     },
     "metadata": {},
     "output_type": "display_data"
    },
    {
     "name": "stdout",
     "output_type": "stream",
     "text": [
      "now computing area = frontal, window = 0.3\n"
     ]
    },
    {
     "data": {
      "application/vnd.jupyter.widget-view+json": {
       "model_id": "959f4ae880ba42d1916d8f833599ce41",
       "version_major": 2,
       "version_minor": 0
      },
      "text/plain": [
       "  0%|          | 0/5461 [00:00<?, ?it/s]"
      ]
     },
     "metadata": {},
     "output_type": "display_data"
    },
    {
     "name": "stdout",
     "output_type": "stream",
     "text": [
      "now computing area = frontal, window = 0.4\n"
     ]
    },
    {
     "data": {
      "application/vnd.jupyter.widget-view+json": {
       "model_id": "aa7d18ffea3344f7a32d2b886883a85d",
       "version_major": 2,
       "version_minor": 0
      },
      "text/plain": [
       "  0%|          | 0/4096 [00:00<?, ?it/s]"
      ]
     },
     "metadata": {},
     "output_type": "display_data"
    },
    {
     "name": "stdout",
     "output_type": "stream",
     "text": [
      "now computing area = frontal, window = 0.5\n"
     ]
    },
    {
     "data": {
      "application/vnd.jupyter.widget-view+json": {
       "model_id": "19230cd6f8b042619dc47a9dc88653c7",
       "version_major": 2,
       "version_minor": 0
      },
      "text/plain": [
       "  0%|          | 0/3276 [00:00<?, ?it/s]"
      ]
     },
     "metadata": {},
     "output_type": "display_data"
    },
    {
     "name": "stdout",
     "output_type": "stream",
     "text": [
      "now computing area = frontal, window = 1\n"
     ]
    },
    {
     "data": {
      "application/vnd.jupyter.widget-view+json": {
       "model_id": "913612644b0144b99b2b57420366d585",
       "version_major": 2,
       "version_minor": 0
      },
      "text/plain": [
       "  0%|          | 0/1638 [00:00<?, ?it/s]"
      ]
     },
     "metadata": {},
     "output_type": "display_data"
    },
    {
     "name": "stdout",
     "output_type": "stream",
     "text": [
      "now computing area = frontal, window = 1.5\n"
     ]
    },
    {
     "data": {
      "application/vnd.jupyter.widget-view+json": {
       "model_id": "686798b9007745dd8e5878da9bfbe611",
       "version_major": 2,
       "version_minor": 0
      },
      "text/plain": [
       "  0%|          | 0/1092 [00:00<?, ?it/s]"
      ]
     },
     "metadata": {},
     "output_type": "display_data"
    },
    {
     "name": "stdout",
     "output_type": "stream",
     "text": [
      "now computing area = frontal, window = 2\n"
     ]
    },
    {
     "data": {
      "application/vnd.jupyter.widget-view+json": {
       "model_id": "69dae1524c6b430bafaedcacdf2c85a9",
       "version_major": 2,
       "version_minor": 0
      },
      "text/plain": [
       "  0%|          | 0/819 [00:00<?, ?it/s]"
      ]
     },
     "metadata": {},
     "output_type": "display_data"
    },
    {
     "name": "stdout",
     "output_type": "stream",
     "text": [
      "now computing area = frontal, window = 2.5\n"
     ]
    },
    {
     "data": {
      "application/vnd.jupyter.widget-view+json": {
       "model_id": "dfc7ac1cdc7246cda7d921dd622836e5",
       "version_major": 2,
       "version_minor": 0
      },
      "text/plain": [
       "  0%|          | 0/655 [00:00<?, ?it/s]"
      ]
     },
     "metadata": {},
     "output_type": "display_data"
    },
    {
     "name": "stdout",
     "output_type": "stream",
     "text": [
      "now computing area = frontal, window = 3\n"
     ]
    },
    {
     "data": {
      "application/vnd.jupyter.widget-view+json": {
       "model_id": "65e0c8d3c1ba4073bc07d5aedcab8734",
       "version_major": 2,
       "version_minor": 0
      },
      "text/plain": [
       "  0%|          | 0/546 [00:00<?, ?it/s]"
      ]
     },
     "metadata": {},
     "output_type": "display_data"
    },
    {
     "name": "stdout",
     "output_type": "stream",
     "text": [
      "now computing area = frontal, window = 3.5\n"
     ]
    },
    {
     "data": {
      "application/vnd.jupyter.widget-view+json": {
       "model_id": "e503c0d62d484e3583e72a9d09c189ec",
       "version_major": 2,
       "version_minor": 0
      },
      "text/plain": [
       "  0%|          | 0/468 [00:00<?, ?it/s]"
      ]
     },
     "metadata": {},
     "output_type": "display_data"
    },
    {
     "name": "stdout",
     "output_type": "stream",
     "text": [
      "now computing area = frontal, window = 4\n"
     ]
    },
    {
     "data": {
      "application/vnd.jupyter.widget-view+json": {
       "model_id": "b34eadd2e9414dd688d7cdbe4df7ee9a",
       "version_major": 2,
       "version_minor": 0
      },
      "text/plain": [
       "  0%|          | 0/409 [00:00<?, ?it/s]"
      ]
     },
     "metadata": {},
     "output_type": "display_data"
    },
    {
     "name": "stdout",
     "output_type": "stream",
     "text": [
      "now computing area = frontal, window = 4.5\n"
     ]
    },
    {
     "data": {
      "application/vnd.jupyter.widget-view+json": {
       "model_id": "15d58e8866c6474b9274a720be0f151c",
       "version_major": 2,
       "version_minor": 0
      },
      "text/plain": [
       "  0%|          | 0/364 [00:00<?, ?it/s]"
      ]
     },
     "metadata": {},
     "output_type": "display_data"
    },
    {
     "name": "stdout",
     "output_type": "stream",
     "text": [
      "now computing area = frontal, window = 5\n"
     ]
    },
    {
     "data": {
      "application/vnd.jupyter.widget-view+json": {
       "model_id": "b239834f21b743ac9aa1d7f50408cbe0",
       "version_major": 2,
       "version_minor": 0
      },
      "text/plain": [
       "  0%|          | 0/327 [00:00<?, ?it/s]"
      ]
     },
     "metadata": {},
     "output_type": "display_data"
    },
    {
     "name": "stdout",
     "output_type": "stream",
     "text": [
      "now computing area = frontal, window = 6\n"
     ]
    },
    {
     "data": {
      "application/vnd.jupyter.widget-view+json": {
       "model_id": "7e7f2a18ac5c43b2936fd66e0ebbc859",
       "version_major": 2,
       "version_minor": 0
      },
      "text/plain": [
       "  0%|          | 0/273 [00:00<?, ?it/s]"
      ]
     },
     "metadata": {},
     "output_type": "display_data"
    },
    {
     "name": "stdout",
     "output_type": "stream",
     "text": [
      "now computing area = frontal, window = 6.5\n"
     ]
    },
    {
     "data": {
      "application/vnd.jupyter.widget-view+json": {
       "model_id": "7816b1d2ad3a452f8e1ebb1e913ddc10",
       "version_major": 2,
       "version_minor": 0
      },
      "text/plain": [
       "  0%|          | 0/252 [00:00<?, ?it/s]"
      ]
     },
     "metadata": {},
     "output_type": "display_data"
    },
    {
     "name": "stdout",
     "output_type": "stream",
     "text": [
      "now computing area = frontal, window = 7\n"
     ]
    },
    {
     "data": {
      "application/vnd.jupyter.widget-view+json": {
       "model_id": "b2ea0a729c2c4db985b659256e7c0488",
       "version_major": 2,
       "version_minor": 0
      },
      "text/plain": [
       "  0%|          | 0/234 [00:00<?, ?it/s]"
      ]
     },
     "metadata": {},
     "output_type": "display_data"
    },
    {
     "name": "stdout",
     "output_type": "stream",
     "text": [
      "now computing area = frontal, window = 7.5\n"
     ]
    },
    {
     "data": {
      "application/vnd.jupyter.widget-view+json": {
       "model_id": "fbc598426a6e438b8ffc45d051b1c192",
       "version_major": 2,
       "version_minor": 0
      },
      "text/plain": [
       "  0%|          | 0/218 [00:00<?, ?it/s]"
      ]
     },
     "metadata": {},
     "output_type": "display_data"
    },
    {
     "name": "stdout",
     "output_type": "stream",
     "text": [
      "now computing area = frontal, window = 8\n"
     ]
    },
    {
     "data": {
      "application/vnd.jupyter.widget-view+json": {
       "model_id": "360c2a4c5f7544508d80adde85d5bc38",
       "version_major": 2,
       "version_minor": 0
      },
      "text/plain": [
       "  0%|          | 0/204 [00:00<?, ?it/s]"
      ]
     },
     "metadata": {},
     "output_type": "display_data"
    },
    {
     "name": "stdout",
     "output_type": "stream",
     "text": [
      "now computing area = frontal, window = 8.5\n"
     ]
    },
    {
     "data": {
      "application/vnd.jupyter.widget-view+json": {
       "model_id": "7e49987a4b8b4a6483126dba3ec98402",
       "version_major": 2,
       "version_minor": 0
      },
      "text/plain": [
       "  0%|          | 0/192 [00:00<?, ?it/s]"
      ]
     },
     "metadata": {},
     "output_type": "display_data"
    },
    {
     "name": "stdout",
     "output_type": "stream",
     "text": [
      "now computing area = frontal, window = 9\n"
     ]
    },
    {
     "data": {
      "application/vnd.jupyter.widget-view+json": {
       "model_id": "c3bc842f4d0e4f92b9a2e620e6243c31",
       "version_major": 2,
       "version_minor": 0
      },
      "text/plain": [
       "  0%|          | 0/182 [00:00<?, ?it/s]"
      ]
     },
     "metadata": {},
     "output_type": "display_data"
    },
    {
     "name": "stdout",
     "output_type": "stream",
     "text": [
      "now computing area = frontal, window = 9.5\n"
     ]
    },
    {
     "data": {
      "application/vnd.jupyter.widget-view+json": {
       "model_id": "1e57e1d447ec4695aa376bad9fd65966",
       "version_major": 2,
       "version_minor": 0
      },
      "text/plain": [
       "  0%|          | 0/172 [00:00<?, ?it/s]"
      ]
     },
     "metadata": {},
     "output_type": "display_data"
    },
    {
     "name": "stdout",
     "output_type": "stream",
     "text": [
      "now computing area = frontal, window = 10\n"
     ]
    },
    {
     "data": {
      "application/vnd.jupyter.widget-view+json": {
       "model_id": "6462757a1aee492488f79f6be6e74ef9",
       "version_major": 2,
       "version_minor": 0
      },
      "text/plain": [
       "  0%|          | 0/163 [00:00<?, ?it/s]"
      ]
     },
     "metadata": {},
     "output_type": "display_data"
    }
   ],
   "source": [
    "VAR_results = {}\n",
    "windows = [0.2, 0.3, 0.4, 0.5, 1, 1.5, 2, 2.5, 3, 3.5, 4, 4.5, 5, 6, 6.5, 7, 7.5, 8, 8.5, 9, 9.5, 10]\n",
    "# windows = [5, 8, 10]\n",
    "# windows = [10]\n",
    "\n",
    "# for area in ['frontal', 'posterior', 'very-frontal', 'all']:\n",
    "# for area in ['frontal', 'posterior', 'very-frontal', 'pre-frontal', 'all']:\n",
    "# for area in ['frontal', 'very-frontal', 'all']:\n",
    "for area in ['frontal']:\n",
    "# for area in ['test']:\n",
    "    \n",
    "    VAR_results[area] = {}\n",
    "    \n",
    "    if area == 'frontal':\n",
    "        unit_indices = [i for i, c in enumerate(all_electrodes) if c.startswith('F') or c.startswith(\"AF\")]\n",
    "    elif area == 'posterior':\n",
    "        unit_indices = [i for i, c in enumerate(all_electrodes) if not c.startswith('F') and not c.startswith(\"AF\")]\n",
    "    elif area == 'very-frontal':\n",
    "        unit_indices = [i for i, c in enumerate(all_electrodes) if c.startswith('Fp') or c.startswith(\"AF\")]\n",
    "    elif area == 'pre-frontal':\n",
    "        unit_indices = [i for i, c in enumerate(all_electrodes) if c.startswith('Fp')]\n",
    "#     elif area == 'test':\n",
    "#         unit_indices = [i for i, c in enumerate(all_electrodes) if c == 'Fp1' or c == 'Pz']\n",
    "    else: # area == 'all'\n",
    "        unit_indices = np.arange(len(all_electrodes))\n",
    "\n",
    "    \n",
    "    for window in windows:\n",
    "# for area in ['pre-frontal']:\n",
    "        print(f\"now computing area = {area}, window = {window}\")\n",
    "        stride = window\n",
    "\n",
    "        num_windows = int(np.floor((all_eeg.shape[0]-int(window/dt))/int(stride/dt))+1)\n",
    "\n",
    "        all_results = []\n",
    "        for i in tqdm(range(num_windows)):\n",
    "            start_ind = i*int(stride/dt)\n",
    "            end_ind = i*int(stride/dt) + int(window/dt)\n",
    "            window_data = all_eeg[start_ind:end_ind]\n",
    "\n",
    "            try:\n",
    "                results = compute_VAR(window_data, unit_indices=unit_indices)\n",
    "                results['start_time'] = i*stride\n",
    "                results['start_time_ms'] = i*stride*1000\n",
    "                results['start_ind'] = start_ind\n",
    "                results['end_time'] = i*stride + window\n",
    "                results['end_time_ms'] = (i*stride + window)*1000\n",
    "                results['end_ind'] = end_ind\n",
    "                all_results.append(results)\n",
    "            except:\n",
    "                pass\n",
    "                # sometimes this doesn't work because the EEG isn't aligned at the beginning/end\n",
    "        VAR_results[area][window] = pd.DataFrame(all_results)"
   ]
  },
  {
   "cell_type": "markdown",
   "id": "ae326ff4",
   "metadata": {},
   "source": [
    "# Window Selection"
   ]
  },
  {
   "cell_type": "code",
   "execution_count": 63,
   "id": "03d67c16",
   "metadata": {},
   "outputs": [
    {
     "name": "stdout",
     "output_type": "stream",
     "text": [
      "Now computing window = 0.2\n"
     ]
    },
    {
     "data": {
      "application/vnd.jupyter.widget-view+json": {
       "model_id": "b995dec57d7a42ccaa5c551df966ce61",
       "version_major": 2,
       "version_minor": 0
      },
      "text/plain": [
       "  0%|          | 0/8191 [00:00<?, ?it/s]"
      ]
     },
     "metadata": {},
     "output_type": "display_data"
    },
    {
     "name": "stdout",
     "output_type": "stream",
     "text": [
      "Now computing window = 0.3\n"
     ]
    },
    {
     "data": {
      "application/vnd.jupyter.widget-view+json": {
       "model_id": "d96f3cc0a01a4583a9ad6d032862ffbd",
       "version_major": 2,
       "version_minor": 0
      },
      "text/plain": [
       "  0%|          | 0/5460 [00:00<?, ?it/s]"
      ]
     },
     "metadata": {},
     "output_type": "display_data"
    },
    {
     "name": "stdout",
     "output_type": "stream",
     "text": [
      "Now computing window = 0.4\n"
     ]
    },
    {
     "data": {
      "application/vnd.jupyter.widget-view+json": {
       "model_id": "2d1d623abc8a4764908d2585adfc8f82",
       "version_major": 2,
       "version_minor": 0
      },
      "text/plain": [
       "  0%|          | 0/4095 [00:00<?, ?it/s]"
      ]
     },
     "metadata": {},
     "output_type": "display_data"
    },
    {
     "name": "stdout",
     "output_type": "stream",
     "text": [
      "Now computing window = 0.5\n"
     ]
    },
    {
     "data": {
      "application/vnd.jupyter.widget-view+json": {
       "model_id": "362c99635a1a4b6bbba507dd939b679e",
       "version_major": 2,
       "version_minor": 0
      },
      "text/plain": [
       "  0%|          | 0/3275 [00:00<?, ?it/s]"
      ]
     },
     "metadata": {},
     "output_type": "display_data"
    },
    {
     "name": "stdout",
     "output_type": "stream",
     "text": [
      "Now computing window = 1\n"
     ]
    },
    {
     "data": {
      "application/vnd.jupyter.widget-view+json": {
       "model_id": "d83da7cff29441228e1324ec8c6779ef",
       "version_major": 2,
       "version_minor": 0
      },
      "text/plain": [
       "  0%|          | 0/1637 [00:00<?, ?it/s]"
      ]
     },
     "metadata": {},
     "output_type": "display_data"
    },
    {
     "name": "stdout",
     "output_type": "stream",
     "text": [
      "Now computing window = 1.5\n"
     ]
    },
    {
     "data": {
      "application/vnd.jupyter.widget-view+json": {
       "model_id": "db2848a2f24a445ba114ccb48a860f00",
       "version_major": 2,
       "version_minor": 0
      },
      "text/plain": [
       "  0%|          | 0/1091 [00:00<?, ?it/s]"
      ]
     },
     "metadata": {},
     "output_type": "display_data"
    },
    {
     "name": "stdout",
     "output_type": "stream",
     "text": [
      "Now computing window = 2\n"
     ]
    },
    {
     "data": {
      "application/vnd.jupyter.widget-view+json": {
       "model_id": "74498d081383434fb4d8a9edc7d076f4",
       "version_major": 2,
       "version_minor": 0
      },
      "text/plain": [
       "  0%|          | 0/818 [00:00<?, ?it/s]"
      ]
     },
     "metadata": {},
     "output_type": "display_data"
    },
    {
     "name": "stdout",
     "output_type": "stream",
     "text": [
      "Now computing window = 2.5\n"
     ]
    },
    {
     "data": {
      "application/vnd.jupyter.widget-view+json": {
       "model_id": "0a9171d4f257465fb4859985eae2a60b",
       "version_major": 2,
       "version_minor": 0
      },
      "text/plain": [
       "  0%|          | 0/654 [00:00<?, ?it/s]"
      ]
     },
     "metadata": {},
     "output_type": "display_data"
    },
    {
     "name": "stdout",
     "output_type": "stream",
     "text": [
      "Now computing window = 3\n"
     ]
    },
    {
     "data": {
      "application/vnd.jupyter.widget-view+json": {
       "model_id": "1d176082730441ba9211a4aceda44b0f",
       "version_major": 2,
       "version_minor": 0
      },
      "text/plain": [
       "  0%|          | 0/545 [00:00<?, ?it/s]"
      ]
     },
     "metadata": {},
     "output_type": "display_data"
    },
    {
     "name": "stdout",
     "output_type": "stream",
     "text": [
      "Now computing window = 3.5\n"
     ]
    },
    {
     "data": {
      "application/vnd.jupyter.widget-view+json": {
       "model_id": "443835e0a6bb4e62a5d0010051e16261",
       "version_major": 2,
       "version_minor": 0
      },
      "text/plain": [
       "  0%|          | 0/467 [00:00<?, ?it/s]"
      ]
     },
     "metadata": {},
     "output_type": "display_data"
    },
    {
     "name": "stdout",
     "output_type": "stream",
     "text": [
      "Now computing window = 4\n"
     ]
    },
    {
     "data": {
      "application/vnd.jupyter.widget-view+json": {
       "model_id": "0a6685940bfc4f4194d3c56b9d85405f",
       "version_major": 2,
       "version_minor": 0
      },
      "text/plain": [
       "  0%|          | 0/408 [00:00<?, ?it/s]"
      ]
     },
     "metadata": {},
     "output_type": "display_data"
    },
    {
     "name": "stdout",
     "output_type": "stream",
     "text": [
      "Now computing window = 4.5\n"
     ]
    },
    {
     "data": {
      "application/vnd.jupyter.widget-view+json": {
       "model_id": "5793c5012ed243e08c328ca8e4870026",
       "version_major": 2,
       "version_minor": 0
      },
      "text/plain": [
       "  0%|          | 0/363 [00:00<?, ?it/s]"
      ]
     },
     "metadata": {},
     "output_type": "display_data"
    },
    {
     "name": "stdout",
     "output_type": "stream",
     "text": [
      "Now computing window = 5\n"
     ]
    },
    {
     "data": {
      "application/vnd.jupyter.widget-view+json": {
       "model_id": "99bfd6fd7a5a47579329e5f5a2e5cd75",
       "version_major": 2,
       "version_minor": 0
      },
      "text/plain": [
       "  0%|          | 0/326 [00:00<?, ?it/s]"
      ]
     },
     "metadata": {},
     "output_type": "display_data"
    },
    {
     "name": "stdout",
     "output_type": "stream",
     "text": [
      "Now computing window = 6\n"
     ]
    },
    {
     "data": {
      "application/vnd.jupyter.widget-view+json": {
       "model_id": "9b7062ca588446c2b1db14b7349083d6",
       "version_major": 2,
       "version_minor": 0
      },
      "text/plain": [
       "  0%|          | 0/272 [00:00<?, ?it/s]"
      ]
     },
     "metadata": {},
     "output_type": "display_data"
    },
    {
     "name": "stdout",
     "output_type": "stream",
     "text": [
      "Now computing window = 6.5\n"
     ]
    },
    {
     "data": {
      "application/vnd.jupyter.widget-view+json": {
       "model_id": "441bf724f3ca493c8a82942941ddad02",
       "version_major": 2,
       "version_minor": 0
      },
      "text/plain": [
       "  0%|          | 0/251 [00:00<?, ?it/s]"
      ]
     },
     "metadata": {},
     "output_type": "display_data"
    },
    {
     "name": "stdout",
     "output_type": "stream",
     "text": [
      "Now computing window = 7\n"
     ]
    },
    {
     "data": {
      "application/vnd.jupyter.widget-view+json": {
       "model_id": "d0af36d4c6544dc6be49ec57882c83db",
       "version_major": 2,
       "version_minor": 0
      },
      "text/plain": [
       "  0%|          | 0/233 [00:00<?, ?it/s]"
      ]
     },
     "metadata": {},
     "output_type": "display_data"
    },
    {
     "name": "stdout",
     "output_type": "stream",
     "text": [
      "Now computing window = 7.5\n"
     ]
    },
    {
     "data": {
      "application/vnd.jupyter.widget-view+json": {
       "model_id": "755a395d50fb4159be73f4f552020d01",
       "version_major": 2,
       "version_minor": 0
      },
      "text/plain": [
       "  0%|          | 0/217 [00:00<?, ?it/s]"
      ]
     },
     "metadata": {},
     "output_type": "display_data"
    },
    {
     "name": "stdout",
     "output_type": "stream",
     "text": [
      "Now computing window = 8\n"
     ]
    },
    {
     "data": {
      "application/vnd.jupyter.widget-view+json": {
       "model_id": "eece43d0aecd481d824589076b6d82ec",
       "version_major": 2,
       "version_minor": 0
      },
      "text/plain": [
       "  0%|          | 0/203 [00:00<?, ?it/s]"
      ]
     },
     "metadata": {},
     "output_type": "display_data"
    },
    {
     "name": "stdout",
     "output_type": "stream",
     "text": [
      "Now computing window = 8.5\n"
     ]
    },
    {
     "data": {
      "application/vnd.jupyter.widget-view+json": {
       "model_id": "31fa2759084642a3ba785183a97a26a2",
       "version_major": 2,
       "version_minor": 0
      },
      "text/plain": [
       "  0%|          | 0/191 [00:00<?, ?it/s]"
      ]
     },
     "metadata": {},
     "output_type": "display_data"
    },
    {
     "name": "stdout",
     "output_type": "stream",
     "text": [
      "Now computing window = 9\n"
     ]
    },
    {
     "data": {
      "application/vnd.jupyter.widget-view+json": {
       "model_id": "2f7c9e057a3241bd85fdd461b8e02ea4",
       "version_major": 2,
       "version_minor": 0
      },
      "text/plain": [
       "  0%|          | 0/181 [00:00<?, ?it/s]"
      ]
     },
     "metadata": {},
     "output_type": "display_data"
    },
    {
     "name": "stdout",
     "output_type": "stream",
     "text": [
      "Now computing window = 9.5\n"
     ]
    },
    {
     "data": {
      "application/vnd.jupyter.widget-view+json": {
       "model_id": "9ed23928364542b0a1381920fce806fe",
       "version_major": 2,
       "version_minor": 0
      },
      "text/plain": [
       "  0%|          | 0/171 [00:00<?, ?it/s]"
      ]
     },
     "metadata": {},
     "output_type": "display_data"
    },
    {
     "name": "stdout",
     "output_type": "stream",
     "text": [
      "Now computing window = 10\n"
     ]
    },
    {
     "data": {
      "application/vnd.jupyter.widget-view+json": {
       "model_id": "b8bb9ac77b2f43e78b6cfb1f7fe441c3",
       "version_major": 2,
       "version_minor": 0
      },
      "text/plain": [
       "  0%|          | 0/162 [00:00<?, ?it/s]"
      ]
     },
     "metadata": {},
     "output_type": "display_data"
    }
   ],
   "source": [
    "T_pred = 10\n",
    "\n",
    "predictions = {}\n",
    "true_vals = {}\n",
    "step_mse = {}\n",
    "for area in VAR_results.keys():\n",
    "    predictions[area] = {}\n",
    "    true_vals[area] = {}\n",
    "    step_mse[area] = {}\n",
    "    \n",
    "for window in windows:\n",
    "    stride = window\n",
    "    print(f\"Now computing window = {window}\")\n",
    "\n",
    "    for area in VAR_results.keys():\n",
    "        if area == 'frontal':\n",
    "            unit_indices = [i for i, c in enumerate(all_electrodes) if c.startswith('F') or c.startswith(\"AF\")]\n",
    "        elif area == 'posterior':\n",
    "            unit_indices = [i for i, c in enumerate(all_electrodes) if not c.startswith('F') and not c.startswith(\"AF\")]\n",
    "        elif area == 'very-frontal':\n",
    "            unit_indices = [i for i, c in enumerate(all_electrodes) if c.startswith('Fp') or c.startswith(\"AF\")]\n",
    "        elif area == 'pre-frontal':\n",
    "            unit_indices = [i for i, c in enumerate(all_electrodes) if c.startswith('Fp')]\n",
    "        else: # area == 'all'\n",
    "            unit_indices = np.arange(len(all_electrodes))\n",
    "            \n",
    "        predictions[area][window] = np.zeros((len(VAR_results[area][window]) - 1, T_pred, len(unit_indices)))\n",
    "        true_vals[area][window] = np.zeros(predictions[area][window].shape)\n",
    "\n",
    "        for i in tqdm(range(predictions[area][window].shape[0])):\n",
    "            row = VAR_results[area][window].iloc[i]\n",
    "            start_step = int(stride*i/dt)\n",
    "            x0 = all_eeg[start_step + int(window/dt) - 1, unit_indices]\n",
    "\n",
    "            for t in range(T_pred):\n",
    "                predictions[area][window][i, t] = np.hstack([[1], all_eeg[start_step + int(window/dt) - 1 + t, unit_indices]]) @ row.A_mat_with_bias\n",
    "#                 if t == 0:\n",
    "#                     predictions[area][window][i, t] = np.hstack([[1], x0]) @ row.A_mat_with_bias\n",
    "#                 else:\n",
    "#                     predictions[area][window][i, t] = np.hstack([[1], predictions[area][window][i, t - 1]]) @ row.A_mat_with_bias\n",
    "\n",
    "            true_vals[area][window][i] = all_eeg[start_step + int(window/dt):start_step + int(window/dt) + T_pred, unit_indices]\n",
    "\n",
    "        step_mse[area][window] = ((predictions[area][window] - true_vals[area][window])**2).mean(axis=2)"
   ]
  },
  {
   "cell_type": "code",
   "execution_count": 12,
   "id": "787ce0e1",
   "metadata": {},
   "outputs": [],
   "source": [
    "pct_of_value = 0.95"
   ]
  },
  {
   "cell_type": "code",
   "execution_count": 13,
   "id": "9d33b08d",
   "metadata": {},
   "outputs": [
    {
     "data": {
      "image/png": "[encoded data removed]",
      "text/plain": [
       "<Figure size 864x576 with 1 Axes>"
      ]
     },
     "metadata": {
      "needs_background": "light"
     },
     "output_type": "display_data"
    }
   ],
   "source": [
    "selected_windows = {}\n",
    "plt.figure(figsize=(12, 8))\n",
    "pred_steps = 10\n",
    "for area in VAR_results.keys():\n",
    "    window_mses = [step_mse[area][window][:].mean() for window in windows]\n",
    "    \n",
    "    asymptotic_value = np.array(window_mses).min()\n",
    "    asymptotic_ind = np.argmin(window_mses)\n",
    "    for i in range(len(window_mses)):\n",
    "        if window_mses[i]*pct_of_value <= asymptotic_value or i == asymptotic_ind:\n",
    "            selected_windows[area] = windows[i]\n",
    "            break\n",
    "\n",
    "#     plt.plot(windows, window_mses, label=area)\n",
    "#     plt.plot(selected_windows)\n",
    "    \n",
    "for i, area in enumerate(step_mse.keys()):\n",
    "#     ax = axs[int(i/2), i % 2]\n",
    "    mse_per_window = np.array([step_mse[area][window][:].mean() for window in windows])\n",
    "    min_val = mse_per_window.min()\n",
    "    max_val = mse_per_window.max()\n",
    "    mse_per_window -= min_val\n",
    "    mse_per_window /= max_val - min_val\n",
    "    plt.plot(windows, mse_per_window, label=area)\n",
    "    pt = step_mse[area][selected_windows[area]][:].mean()\n",
    "    pt -= min_val\n",
    "    pt /= max_val - min_val\n",
    "#         if num == 2 and area == '7b':\n",
    "#             print(mse_per_window*0.95)\n",
    "#             print(pt)\n",
    "    plt.scatter(selected_windows[area], pt, color='k')\n",
    "    \n",
    "plt.xlabel(\"Window Size (s)\", fontsize=14)\n",
    "plt.ylabel(\"MSE\", fontsize=14)\n",
    "plt.title(f\"MSE on 10-Step Forward Prediction for Subject {sub} Day {day}\", fontsize=18)\n",
    "plt.legend(fontsize=14)\n",
    "plt.show()"
   ]
  },
  {
   "cell_type": "code",
   "execution_count": 14,
   "id": "8426fc23",
   "metadata": {},
   "outputs": [
    {
     "data": {
      "text/plain": [
       "{'frontal': 8}"
      ]
     },
     "execution_count": 14,
     "metadata": {},
     "output_type": "execute_result"
    }
   ],
   "source": [
    "selected_windows"
   ]
  },
  {
   "cell_type": "code",
   "execution_count": 15,
   "id": "2536d2e2",
   "metadata": {},
   "outputs": [],
   "source": [
    "# area = 'frontal'\n",
    "# window = 0.3"
   ]
  },
  {
   "cell_type": "code",
   "execution_count": 16,
   "id": "950b82c8",
   "metadata": {},
   "outputs": [],
   "source": [
    "# time_in_session = 15*60 + 9.5 # s\n",
    "# window_num = int(time_in_session/window)"
   ]
  },
  {
   "cell_type": "code",
   "execution_count": 17,
   "id": "e73228f4",
   "metadata": {},
   "outputs": [],
   "source": [
    "# rows = 5\n",
    "# cols = 5\n",
    "# fig, axs = plt.subplots(rows, cols, figsize=(15, 8), sharex=True)\n",
    "# unit_nums = np.arange(rows*cols)\n",
    "# # unit_nums = np.random.choice(predictions[area][window].shape[2], size=(rows*cols,), replace=False)\n",
    "# for i, unit_num in enumerate(unit_nums):\n",
    "#     ax = axs[int(i/rows)][i%rows]\n",
    "#     ax.plot(true_vals[area][window][window_num, :, unit_num], label='true_vals')\n",
    "#     ax.plot(predictions[area][window][window_num, :, unit_num], label='predictions')\n",
    "#     ax.set_title(f'Unit #{unit_num}')\n",
    "# plt.suptitle(f\"Predictions Across Randomly Choosen Units\\narea = {area}, window = {window}, {int(time_in_session/window)*window}s into session\\nMSE on this window at final step = {step_mse[area][window][window_num, -1]:.6f}, MSE on Whole Session at Final Step = {step_mse[area][window][:, -1].mean():.6f}\\nMSE on this window at all steps = {step_mse[area][window][window_num, :].mean():.6f}, MSE on Whole Session at Final Step = {step_mse[area][window][:, :].mean():.6f}\")\n",
    "# plt.tight_layout()\n",
    "# plt.show()"
   ]
  },
  {
   "cell_type": "markdown",
   "id": "e0e656f7",
   "metadata": {},
   "source": [
    "# Plot"
   ]
  },
  {
   "cell_type": "code",
   "execution_count": 18,
   "id": "ed0e7e86",
   "metadata": {},
   "outputs": [],
   "source": [
    "colors = {'W': 'limegreen', 'w': 'limegreen', '1': 'gold', '2': 'darkorange', '3': 'coral', 'SWS': 'coral', '4': 'indianred', 'R': 'magenta', '?': 'gray', 'e': 'gray'}"
   ]
  },
  {
   "cell_type": "code",
   "execution_count": 19,
   "id": "f37ae27e",
   "metadata": {},
   "outputs": [
    {
     "data": {
      "image/png": "[encoded data removed]",
      "text/plain": [
       "<Figure size 864x576 with 1 Axes>"
      ]
     },
     "metadata": {
      "needs_background": "light"
     },
     "output_type": "display_data"
    }
   ],
   "source": [
    "plt.figure(figsize=(12, 8))\n",
    "min_val = np.Inf\n",
    "max_val = -np.Inf\n",
    "for i, area in enumerate(VAR_results.keys()):\n",
    "# for area in ['frontal']:\n",
    "    time_vals = VAR_results[area][selected_windows[area]].start_time\n",
    "    mean_vals = VAR_results[area][selected_windows[area]].criticality_inds.apply(lambda x: x.mean())\n",
    "    plt.plot(time_vals/60, mean_vals, label=area)\n",
    "    std_error = VAR_results[area][selected_windows[area]].criticality_inds.apply(lambda x: x.std()/np.sqrt(len(x)))\n",
    "    if (mean_vals - std_error).min() < min_val:\n",
    "        min_val = (mean_vals - std_error).min()\n",
    "    if (mean_vals + std_error).max() > max_val:\n",
    "        max_val = (mean_vals + std_error).max()\n",
    "    plt.fill_between(time_vals/60, mean_vals - std_error, mean_vals + std_error, color=f\"C{i}\", alpha=0.3)\n",
    "plt.xlabel('Time in Session (min)')\n",
    "plt.ylabel(\"Mean Criticality\")\n",
    "\n",
    "\n",
    "seen = {}\n",
    "for stage in colors.keys():\n",
    "    seen[stage] = False\n",
    "for i, row in hypnogram_df.iterrows():\n",
    "    plt.fill_between(np.arange(row.start_time, row.end_time)/60, min_val, max_val, color=colors[row.sleep_stage], label=row.sleep_stage if not seen[row.sleep_stage] else \"\", alpha=0.2)\n",
    "    seen[row.sleep_stage] = True\n",
    "plt.legend()\n",
    "plt.title(f\"Mean Criticality Over Session for Subject {sub} Day {day}\\n{selected_windows}\", fontsize=18)\n",
    "plt.show()"
   ]
  },
  {
   "cell_type": "markdown",
   "id": "a29407c6",
   "metadata": {},
   "source": [
    "# Binning"
   ]
  },
  {
   "cell_type": "code",
   "execution_count": 20,
   "id": "5e4235c6",
   "metadata": {},
   "outputs": [
    {
     "data": {
      "application/vnd.jupyter.widget-view+json": {
       "model_id": "4d640240d9e5495db4a6b4c0e1fca827",
       "version_major": 2,
       "version_minor": 0
      },
      "text/plain": [
       "  0%|          | 0/226 [00:00<?, ?it/s]"
      ]
     },
     "metadata": {},
     "output_type": "display_data"
    }
   ],
   "source": [
    "for area in VAR_results.keys():\n",
    "    VAR_results[area][selected_windows[area]]['sleep_stage'] = [None]*len(VAR_results[area][selected_windows[area]])\n",
    "    for i, row in tqdm(VAR_results[area][selected_windows[area]].iterrows(), total=len(VAR_results[area][selected_windows[area]])):\n",
    "        sleep_stage_counts = {'w': 0, '1': 0, '2': 0, 'SWS': 0}\n",
    "\n",
    "        start_time_bool = hypnogram_df.start_time <= row.start_time\n",
    "        start_row = np.argmin(start_time_bool) - 1 if np.sum(start_time_bool) < len(hypnogram_df) else len(hypnogram_df) - 1\n",
    "        end_time_bool = hypnogram_df.end_time > row.end_time\n",
    "        end_row = np.argmax(end_time_bool) if np.sum(end_time_bool) > 0 else len(hypnogram_df) - 1\n",
    "\n",
    "        for row_ind in range(start_row, end_row + 1):\n",
    "            row2 = hypnogram_df.iloc[row_ind]\n",
    "\n",
    "            if row2.start_time <= row.start_time:\n",
    "                start_in_chunk = row.start_time - row2.start_time\n",
    "            else:\n",
    "                start_in_chunk = 0\n",
    "\n",
    "            if row2.end_time <= row.end_time:\n",
    "                end_in_chunk = row2.duration\n",
    "            else:\n",
    "                end_in_chunk = row.end_time - row2.start_time\n",
    "\n",
    "            sleep_stage_counts[row2.sleep_stage] += end_in_chunk - start_in_chunk\n",
    "\n",
    "        VAR_results[area][selected_windows[area]].loc[i, 'sleep_stage'] = max(sleep_stage_counts, key=sleep_stage_counts.get)"
   ]
  },
  {
   "cell_type": "code",
   "execution_count": 21,
   "id": "752dfb48",
   "metadata": {},
   "outputs": [
    {
     "data": {
      "image/png": "[encoded data removed]",
      "text/plain": [
       "<Figure size 864x360 with 1 Axes>"
      ]
     },
     "metadata": {
      "needs_background": "light"
     },
     "output_type": "display_data"
    }
   ],
   "source": [
    "area = 'frontal'\n",
    "plt.figure(figsize=(12, 5))\n",
    "all_inds = {}\n",
    "mean_criticality_sleep_stage = []\n",
    "std_error_sleep_stage = []\n",
    "sleep_stage = []\n",
    "sleep_stage_colors = []\n",
    "for s in colors.keys():\n",
    "    if s != '?' and s != 'e':\n",
    "        if np.sum(VAR_results[area][selected_windows[area]].sleep_stage == s) > 0:\n",
    "            sleep_stage.append(s)\n",
    "            all_inds[s] = np.vstack(VAR_results[area][selected_windows[area]][VAR_results[area][selected_windows[area]].sleep_stage == s].criticality_inds.to_numpy()).flatten()\n",
    "            mean_criticality_sleep_stage.append(all_inds[s].mean())\n",
    "            std_error_sleep_stage.append(all_inds[s].std()/np.sqrt(len(all_inds[s])))\n",
    "            sleep_stage_colors.append(colors[s])\n",
    "\n",
    "plt.bar(sleep_stage, mean_criticality_sleep_stage, yerr=std_error_sleep_stage, color=sleep_stage_colors)\n",
    "plt.ylim([np.min(mean_criticality_sleep_stage)*0.99, np.max(mean_criticality_sleep_stage)*1.01])\n",
    "plt.ylabel(\"Mean Criticality Index\", fontsize=14)\n",
    "plt.tick_params(labelsize=13)\n",
    "plt.title(f\"Mean Criticality Binned for Subject {sub} Day {day}\\narea = {area}\\n{selected_windows[area]} second Windows\", fontsize=18)\n",
    "plt.show()"
   ]
  },
  {
   "cell_type": "code",
   "execution_count": 22,
   "id": "0c1d64d0",
   "metadata": {},
   "outputs": [],
   "source": [
    "def t_test_1_side(vals_1, vals_2):\n",
    "    # t-test\n",
    "    n1 = len(vals_1)\n",
    "    n2 = len(vals_2)\n",
    "#     print(f\"n1 = {n1}, n2 = {n2}\")\n",
    "    mean_1 = vals_1.mean()\n",
    "    mean_2 = vals_2.mean()\n",
    "    var_1 = ((vals_1 - vals_1.mean())**2).sum()/(n1 - 1)\n",
    "    var_2 = ((vals_2 - vals_2.mean())**2).sum()/(n2 - 1)\n",
    "    s_squared = (n1 - 1)/(n1 + n2 - 2)*var_1 + (n2 - 1)/(n1 + n2 - 2)*var_2\n",
    "    t_stat = (mean_1 - mean_2)/(np.sqrt(s_squared)*np.sqrt((1/n1) + (1/n2)))\n",
    "    p = 2*scipy.stats.t.sf(t_stat, df=n1 + n2 - 2)\n",
    "#     print(t_stat)\n",
    "#     print(scipy.stats.t.sf(t_stat, df=n1 + n2 - 2))\n",
    "    \n",
    "    return p"
   ]
  },
  {
   "cell_type": "code",
   "execution_count": 23,
   "id": "b902c0c3",
   "metadata": {},
   "outputs": [
    {
     "name": "stdout",
     "output_type": "stream",
     "text": [
      "p = 0.07942158322928418\n"
     ]
    }
   ],
   "source": [
    "p = t_test_1_side(all_inds['SWS'], all_inds['2'])\n",
    "print(f\"p = {p}\")"
   ]
  },
  {
   "cell_type": "code",
   "execution_count": 24,
   "id": "85c59b7d",
   "metadata": {},
   "outputs": [
    {
     "name": "stdout",
     "output_type": "stream",
     "text": [
      "p = 0.0001431575284262352\n"
     ]
    }
   ],
   "source": [
    "p = t_test_1_side(all_inds['2'], all_inds['1'])\n",
    "print(f\"p = {p}\")"
   ]
  },
  {
   "cell_type": "code",
   "execution_count": 25,
   "id": "75bc8099",
   "metadata": {},
   "outputs": [
    {
     "name": "stdout",
     "output_type": "stream",
     "text": [
      "p = 0.0036433001285701766\n"
     ]
    }
   ],
   "source": [
    "p = t_test_1_side(all_inds['1'], all_inds['w'])\n",
    "print(f\"p = {p}\")"
   ]
  },
  {
   "cell_type": "code",
   "execution_count": null,
   "id": "433171ac",
   "metadata": {},
   "outputs": [],
   "source": []
  }
 ],
 "metadata": {
  "kernelspec": {
   "display_name": "Python 3 (ipykernel)",
   "language": "python",
   "name": "python3"
  },
  "language_info": {
   "codemirror_mode": {
    "name": "ipython",
    "version": 3
   },
   "file_extension": ".py",
   "mimetype": "text/x-python",
   "name": "python",
   "nbconvert_exporter": "python",
   "pygments_lexer": "ipython3",
   "version": "3.9.1"
  }
 },
 "nbformat": 4,
 "nbformat_minor": 5
}
