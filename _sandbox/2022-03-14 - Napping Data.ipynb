{
 "cells": [
  {
   "cell_type": "code",
   "execution_count": 1,
   "id": "a82deae9",
   "metadata": {},
   "outputs": [],
   "source": [
    "%load_ext autoreload"
   ]
  },
  {
   "cell_type": "code",
   "execution_count": 2,
   "id": "01e74d29",
   "metadata": {},
   "outputs": [],
   "source": [
    "%autoreload 2\n",
    "from glob import glob\n",
    "import matplotlib.pyplot as plt\n",
    "import mne\n",
    "import numpy as np\n",
    "import os\n",
    "import pandas as pd\n",
    "import re\n",
    "import sys\n",
    "from tqdm.auto import tqdm\n",
    "\n",
    "sys.path.append('..')\n",
    "from dynamical_models import compute_VAR"
   ]
  },
  {
   "cell_type": "markdown",
   "id": "ad21e4f4",
   "metadata": {},
   "source": [
    "# Load Data"
   ]
  },
  {
   "cell_type": "code",
   "execution_count": 3,
   "id": "1380279a",
   "metadata": {},
   "outputs": [],
   "source": [
    "EEG_dir = '/om/user/eisenaj/datasets/Get_Sleep_data/EEG'\n",
    "annotation_dir = '/om/user/eisenaj/datasets/Get_Sleep_data/annotations'"
   ]
  },
  {
   "cell_type": "code",
   "execution_count": 33,
   "id": "3ee0fa85",
   "metadata": {},
   "outputs": [],
   "source": [
    "sub = 17\n",
    "day = 2"
   ]
  },
  {
   "cell_type": "code",
   "execution_count": 34,
   "id": "a6474dc4",
   "metadata": {},
   "outputs": [
    {
     "name": "stdout",
     "output_type": "stream",
     "text": [
      "Extracting parameters from /om/user/eisenaj/datasets/Get_Sleep_data/EEG/suj17_l2nap_day2.vhdr...\n",
      "Setting channel info structure...\n",
      "Reading 0 ... 1811799  =      0.000 ...  1811.799 secs...\n",
      "Filtering raw data in 1 contiguous segment\n",
      "Setting up band-pass filter from 0.5 - 1e+02 Hz\n",
      "\n",
      "FIR filter parameters\n",
      "---------------------\n",
      "Designing a one-pass, zero-phase, non-causal bandpass filter:\n",
      "- Windowed time-domain design (firwin) method\n",
      "- Hamming window with 0.0194 passband ripple and 53 dB stopband attenuation\n",
      "- Lower passband edge: 0.50\n",
      "- Lower transition bandwidth: 0.50 Hz (-6 dB cutoff frequency: 0.25 Hz)\n",
      "- Upper passband edge: 100.00 Hz\n",
      "- Upper transition bandwidth: 25.00 Hz (-6 dB cutoff frequency: 112.50 Hz)\n",
      "- Filter length: 6601 samples (6.601 sec)\n",
      "\n"
     ]
    }
   ],
   "source": [
    "# load the data\n",
    "raw = mne.io.read_raw_brainvision(\n",
    "        glob(os.path.join(EEG_dir,f'suj{sub}_' + 'l*' + f'nap_day{day}.vhdr'))[0],\n",
    "        preload = True)\n",
    "# set the EOG channels\n",
    "channel_types = {'LOc':'eog','ROc':'eog','Aux1':'misc'}\n",
    "raw.set_channel_types(channel_types)\n",
    "raw.filter(0.5, 100)\n",
    "dt = 1/raw.info['sfreq']\n",
    "eeg_df = raw.to_data_frame()"
   ]
  },
  {
   "cell_type": "code",
   "execution_count": 35,
   "id": "a75727a7",
   "metadata": {},
   "outputs": [],
   "source": [
    "all_electrodes = [c for c in eeg_df.columns if c not in ['time', 'LOc', 'ROc', 'Aux1']]\n",
    "all_eeg = eeg_df[all_electrodes].to_numpy()"
   ]
  },
  {
   "cell_type": "code",
   "execution_count": 36,
   "id": "c49366d6",
   "metadata": {},
   "outputs": [
    {
     "data": {
      "text/plain": [
       "(True, True)"
      ]
     },
     "execution_count": 36,
     "metadata": {},
     "output_type": "execute_result"
    }
   ],
   "source": [
    "'Fp1' in all_electrodes, 'Fp2' in all_electrodes"
   ]
  },
  {
   "cell_type": "code",
   "execution_count": 37,
   "id": "955e365c",
   "metadata": {},
   "outputs": [],
   "source": [
    "# read annotations\n",
    "events = pd.read_csv(os.path.join(annotation_dir,\n",
    "                                    f'suj{sub}_day{day}_annotations.txt'))"
   ]
  },
  {
   "cell_type": "code",
   "execution_count": 38,
   "id": "cb42ca36",
   "metadata": {},
   "outputs": [
    {
     "data": {
      "application/vnd.jupyter.widget-view+json": {
       "model_id": "de73170a993f47f2937c1bed9e3b2ffb",
       "version_major": 2,
       "version_minor": 0
      },
      "text/plain": [
       "  0%|          | 0/261 [00:00<?, ?it/s]"
      ]
     },
     "metadata": {},
     "output_type": "display_data"
    }
   ],
   "source": [
    "sleep_stages = []\n",
    "ontime = None\n",
    "for i, row in tqdm(events.iterrows(), total=len(events)):\n",
    "    if row.Annotation != 'spindle' and row.Annotation != 'k-complex' and row.Annotation != 'spindle ':\n",
    "        if row.Annotation.split(':')[1] == 'Markon' or row.Annotation.split(':')[1] == ' Markon':\n",
    "            ontime = row.Onset\n",
    "        elif row.Annotation.split(':')[1] == 'Markoff' or row.Annotation.split(':')[1] == ' Markoff':\n",
    "            stage = row.Annotation.split(':')[-1]\n",
    "            if stage == ' w':\n",
    "                stage = 'w'\n",
    "            elif stage == ' 1':\n",
    "                stage = '1'\n",
    "            elif stage == ' 2':\n",
    "                stage = '2'\n",
    "            sleep_stages.append(dict(\n",
    "                start_time=ontime,\n",
    "                end_time=row.Onset,\n",
    "                duration=row.Onset - ontime,\n",
    "                sleep_stage=stage\n",
    "            ))\n",
    "hypnogram_df = pd.DataFrame(sleep_stages)"
   ]
  },
  {
   "cell_type": "markdown",
   "id": "af58661a",
   "metadata": {},
   "source": [
    "# Compute VAR"
   ]
  },
  {
   "cell_type": "code",
   "execution_count": null,
   "id": "fbacfcbe",
   "metadata": {},
   "outputs": [
    {
     "name": "stdout",
     "output_type": "stream",
     "text": [
      "now computing area = frontal, window = 0.2\n"
     ]
    },
    {
     "data": {
      "application/vnd.jupyter.widget-view+json": {
       "model_id": "930253cdb825473ea584995d25338244",
       "version_major": 2,
       "version_minor": 0
      },
      "text/plain": [
       "  0%|          | 0/9059 [00:00<?, ?it/s]"
      ]
     },
     "metadata": {},
     "output_type": "display_data"
    },
    {
     "name": "stdout",
     "output_type": "stream",
     "text": [
      "now computing area = frontal, window = 0.3\n"
     ]
    },
    {
     "data": {
      "application/vnd.jupyter.widget-view+json": {
       "model_id": "541105ee3e9c40d3a30818ad8f79cdd0",
       "version_major": 2,
       "version_minor": 0
      },
      "text/plain": [
       "  0%|          | 0/6039 [00:00<?, ?it/s]"
      ]
     },
     "metadata": {},
     "output_type": "display_data"
    },
    {
     "name": "stdout",
     "output_type": "stream",
     "text": [
      "now computing area = frontal, window = 0.4\n"
     ]
    },
    {
     "data": {
      "application/vnd.jupyter.widget-view+json": {
       "model_id": "1e0afc73582142b690d80bf1a5360503",
       "version_major": 2,
       "version_minor": 0
      },
      "text/plain": [
       "  0%|          | 0/4529 [00:00<?, ?it/s]"
      ]
     },
     "metadata": {},
     "output_type": "display_data"
    },
    {
     "name": "stdout",
     "output_type": "stream",
     "text": [
      "now computing area = frontal, window = 0.5\n"
     ]
    },
    {
     "data": {
      "application/vnd.jupyter.widget-view+json": {
       "model_id": "a9dd3c019f5a4f60a9eb3adb686e4b3f",
       "version_major": 2,
       "version_minor": 0
      },
      "text/plain": [
       "  0%|          | 0/3623 [00:00<?, ?it/s]"
      ]
     },
     "metadata": {},
     "output_type": "display_data"
    },
    {
     "name": "stdout",
     "output_type": "stream",
     "text": [
      "now computing area = frontal, window = 1\n"
     ]
    },
    {
     "data": {
      "application/vnd.jupyter.widget-view+json": {
       "model_id": "ea488af59d5743e497053a2b0c5185a2",
       "version_major": 2,
       "version_minor": 0
      },
      "text/plain": [
       "  0%|          | 0/1811 [00:00<?, ?it/s]"
      ]
     },
     "metadata": {},
     "output_type": "display_data"
    },
    {
     "name": "stdout",
     "output_type": "stream",
     "text": [
      "now computing area = frontal, window = 1.5\n"
     ]
    },
    {
     "data": {
      "application/vnd.jupyter.widget-view+json": {
       "model_id": "25f48f8ebe8b4f1fb9c4fa4051c9bbb0",
       "version_major": 2,
       "version_minor": 0
      },
      "text/plain": [
       "  0%|          | 0/1207 [00:00<?, ?it/s]"
      ]
     },
     "metadata": {},
     "output_type": "display_data"
    },
    {
     "name": "stdout",
     "output_type": "stream",
     "text": [
      "now computing area = frontal, window = 2\n"
     ]
    },
    {
     "data": {
      "application/vnd.jupyter.widget-view+json": {
       "model_id": "0c9295ac8c914a80b38f20d06aedb5f4",
       "version_major": 2,
       "version_minor": 0
      },
      "text/plain": [
       "  0%|          | 0/905 [00:00<?, ?it/s]"
      ]
     },
     "metadata": {},
     "output_type": "display_data"
    },
    {
     "name": "stdout",
     "output_type": "stream",
     "text": [
      "now computing area = frontal, window = 2.5\n"
     ]
    },
    {
     "data": {
      "application/vnd.jupyter.widget-view+json": {
       "model_id": "2e3e559a90b84d039d7269199460aec8",
       "version_major": 2,
       "version_minor": 0
      },
      "text/plain": [
       "  0%|          | 0/724 [00:00<?, ?it/s]"
      ]
     },
     "metadata": {},
     "output_type": "display_data"
    },
    {
     "name": "stdout",
     "output_type": "stream",
     "text": [
      "now computing area = frontal, window = 3\n"
     ]
    },
    {
     "data": {
      "application/vnd.jupyter.widget-view+json": {
       "model_id": "3a2fb8b0ea364b52a346ddcb17ffaf4c",
       "version_major": 2,
       "version_minor": 0
      },
      "text/plain": [
       "  0%|          | 0/603 [00:00<?, ?it/s]"
      ]
     },
     "metadata": {},
     "output_type": "display_data"
    },
    {
     "name": "stdout",
     "output_type": "stream",
     "text": [
      "now computing area = frontal, window = 3.5\n"
     ]
    },
    {
     "data": {
      "application/vnd.jupyter.widget-view+json": {
       "model_id": "e53d21d8307941248493d277d79925b2",
       "version_major": 2,
       "version_minor": 0
      },
      "text/plain": [
       "  0%|          | 0/517 [00:00<?, ?it/s]"
      ]
     },
     "metadata": {},
     "output_type": "display_data"
    },
    {
     "name": "stdout",
     "output_type": "stream",
     "text": [
      "now computing area = frontal, window = 4\n"
     ]
    },
    {
     "data": {
      "application/vnd.jupyter.widget-view+json": {
       "model_id": "c50dd1dd83d14838ab5ba8652aee4e93",
       "version_major": 2,
       "version_minor": 0
      },
      "text/plain": [
       "  0%|          | 0/452 [00:00<?, ?it/s]"
      ]
     },
     "metadata": {},
     "output_type": "display_data"
    },
    {
     "name": "stdout",
     "output_type": "stream",
     "text": [
      "now computing area = frontal, window = 4.5\n"
     ]
    },
    {
     "data": {
      "application/vnd.jupyter.widget-view+json": {
       "model_id": "8f66d1b71f0c439cbcea939cdf15cbad",
       "version_major": 2,
       "version_minor": 0
      },
      "text/plain": [
       "  0%|          | 0/402 [00:00<?, ?it/s]"
      ]
     },
     "metadata": {},
     "output_type": "display_data"
    },
    {
     "name": "stdout",
     "output_type": "stream",
     "text": [
      "now computing area = frontal, window = 5\n"
     ]
    },
    {
     "data": {
      "application/vnd.jupyter.widget-view+json": {
       "model_id": "eeffee45f2d24d3c8138d22180f21e22",
       "version_major": 2,
       "version_minor": 0
      },
      "text/plain": [
       "  0%|          | 0/362 [00:00<?, ?it/s]"
      ]
     },
     "metadata": {},
     "output_type": "display_data"
    },
    {
     "name": "stdout",
     "output_type": "stream",
     "text": [
      "now computing area = frontal, window = 6\n"
     ]
    },
    {
     "data": {
      "application/vnd.jupyter.widget-view+json": {
       "model_id": "09cd3619f0094c30a3dd7db286e479fa",
       "version_major": 2,
       "version_minor": 0
      },
      "text/plain": [
       "  0%|          | 0/301 [00:00<?, ?it/s]"
      ]
     },
     "metadata": {},
     "output_type": "display_data"
    },
    {
     "name": "stdout",
     "output_type": "stream",
     "text": [
      "now computing area = frontal, window = 6.5\n"
     ]
    },
    {
     "data": {
      "application/vnd.jupyter.widget-view+json": {
       "model_id": "4b50494d59684b21b5bedf0b26793492",
       "version_major": 2,
       "version_minor": 0
      },
      "text/plain": [
       "  0%|          | 0/278 [00:00<?, ?it/s]"
      ]
     },
     "metadata": {},
     "output_type": "display_data"
    },
    {
     "name": "stdout",
     "output_type": "stream",
     "text": [
      "now computing area = frontal, window = 7\n"
     ]
    },
    {
     "data": {
      "application/vnd.jupyter.widget-view+json": {
       "model_id": "732ab3a96ccb47fa885ee0192249ff2d",
       "version_major": 2,
       "version_minor": 0
      },
      "text/plain": [
       "  0%|          | 0/258 [00:00<?, ?it/s]"
      ]
     },
     "metadata": {},
     "output_type": "display_data"
    },
    {
     "name": "stdout",
     "output_type": "stream",
     "text": [
      "now computing area = frontal, window = 7.5\n"
     ]
    },
    {
     "data": {
      "application/vnd.jupyter.widget-view+json": {
       "model_id": "100da689dbe14ea6a198d3c90cdeaccd",
       "version_major": 2,
       "version_minor": 0
      },
      "text/plain": [
       "  0%|          | 0/241 [00:00<?, ?it/s]"
      ]
     },
     "metadata": {},
     "output_type": "display_data"
    },
    {
     "name": "stdout",
     "output_type": "stream",
     "text": [
      "now computing area = frontal, window = 8\n"
     ]
    },
    {
     "data": {
      "application/vnd.jupyter.widget-view+json": {
       "model_id": "5c2a2276277d4ddc8976e2b0f5bb3d2a",
       "version_major": 2,
       "version_minor": 0
      },
      "text/plain": [
       "  0%|          | 0/226 [00:00<?, ?it/s]"
      ]
     },
     "metadata": {},
     "output_type": "display_data"
    },
    {
     "name": "stdout",
     "output_type": "stream",
     "text": [
      "now computing area = frontal, window = 8.5\n"
     ]
    },
    {
     "data": {
      "application/vnd.jupyter.widget-view+json": {
       "model_id": "01e1f52162574900878af42874b4fd94",
       "version_major": 2,
       "version_minor": 0
      },
      "text/plain": [
       "  0%|          | 0/213 [00:00<?, ?it/s]"
      ]
     },
     "metadata": {},
     "output_type": "display_data"
    },
    {
     "name": "stdout",
     "output_type": "stream",
     "text": [
      "now computing area = frontal, window = 9\n"
     ]
    },
    {
     "data": {
      "application/vnd.jupyter.widget-view+json": {
       "model_id": "8e17bb46eb4f4005b137dd8654f16dcf",
       "version_major": 2,
       "version_minor": 0
      },
      "text/plain": [
       "  0%|          | 0/201 [00:00<?, ?it/s]"
      ]
     },
     "metadata": {},
     "output_type": "display_data"
    },
    {
     "name": "stdout",
     "output_type": "stream",
     "text": [
      "now computing area = frontal, window = 9.5\n"
     ]
    },
    {
     "data": {
      "application/vnd.jupyter.widget-view+json": {
       "model_id": "da3cb7a96b5b4f209787e0004b518dc3",
       "version_major": 2,
       "version_minor": 0
      },
      "text/plain": [
       "  0%|          | 0/190 [00:00<?, ?it/s]"
      ]
     },
     "metadata": {},
     "output_type": "display_data"
    },
    {
     "name": "stdout",
     "output_type": "stream",
     "text": [
      "now computing area = frontal, window = 10\n"
     ]
    },
    {
     "data": {
      "application/vnd.jupyter.widget-view+json": {
       "model_id": "7d800d5092b543dfb7b4b63a29e7fc25",
       "version_major": 2,
       "version_minor": 0
      },
      "text/plain": [
       "  0%|          | 0/181 [00:00<?, ?it/s]"
      ]
     },
     "metadata": {},
     "output_type": "display_data"
    },
    {
     "name": "stdout",
     "output_type": "stream",
     "text": [
      "now computing area = very-frontal, window = 0.2\n"
     ]
    },
    {
     "data": {
      "application/vnd.jupyter.widget-view+json": {
       "model_id": "0945ed23129b42caa92ae003a8c46728",
       "version_major": 2,
       "version_minor": 0
      },
      "text/plain": [
       "  0%|          | 0/9059 [00:00<?, ?it/s]"
      ]
     },
     "metadata": {},
     "output_type": "display_data"
    },
    {
     "name": "stdout",
     "output_type": "stream",
     "text": [
      "now computing area = very-frontal, window = 0.3\n"
     ]
    },
    {
     "data": {
      "application/vnd.jupyter.widget-view+json": {
       "model_id": "3afa45ffd98f4007ba74b9958aa04bc0",
       "version_major": 2,
       "version_minor": 0
      },
      "text/plain": [
       "  0%|          | 0/6039 [00:00<?, ?it/s]"
      ]
     },
     "metadata": {},
     "output_type": "display_data"
    },
    {
     "name": "stdout",
     "output_type": "stream",
     "text": [
      "now computing area = very-frontal, window = 0.4\n"
     ]
    },
    {
     "data": {
      "application/vnd.jupyter.widget-view+json": {
       "model_id": "a172fff07153495497971eccff473602",
       "version_major": 2,
       "version_minor": 0
      },
      "text/plain": [
       "  0%|          | 0/4529 [00:00<?, ?it/s]"
      ]
     },
     "metadata": {},
     "output_type": "display_data"
    },
    {
     "name": "stdout",
     "output_type": "stream",
     "text": [
      "now computing area = very-frontal, window = 0.5\n"
     ]
    },
    {
     "data": {
      "application/vnd.jupyter.widget-view+json": {
       "model_id": "d911bdb93cde46c5be2c03a4bc7f9019",
       "version_major": 2,
       "version_minor": 0
      },
      "text/plain": [
       "  0%|          | 0/3623 [00:00<?, ?it/s]"
      ]
     },
     "metadata": {},
     "output_type": "display_data"
    },
    {
     "name": "stdout",
     "output_type": "stream",
     "text": [
      "now computing area = very-frontal, window = 1\n"
     ]
    },
    {
     "data": {
      "application/vnd.jupyter.widget-view+json": {
       "model_id": "656bdb2a84dc460c9f58f367691c508b",
       "version_major": 2,
       "version_minor": 0
      },
      "text/plain": [
       "  0%|          | 0/1811 [00:00<?, ?it/s]"
      ]
     },
     "metadata": {},
     "output_type": "display_data"
    },
    {
     "name": "stdout",
     "output_type": "stream",
     "text": [
      "now computing area = very-frontal, window = 1.5\n"
     ]
    },
    {
     "data": {
      "application/vnd.jupyter.widget-view+json": {
       "model_id": "226b9ac7383d4096bece7018878eefb4",
       "version_major": 2,
       "version_minor": 0
      },
      "text/plain": [
       "  0%|          | 0/1207 [00:00<?, ?it/s]"
      ]
     },
     "metadata": {},
     "output_type": "display_data"
    },
    {
     "name": "stdout",
     "output_type": "stream",
     "text": [
      "now computing area = very-frontal, window = 2\n"
     ]
    },
    {
     "data": {
      "application/vnd.jupyter.widget-view+json": {
       "model_id": "2668eb8191b6411aaed9c1eb11465564",
       "version_major": 2,
       "version_minor": 0
      },
      "text/plain": [
       "  0%|          | 0/905 [00:00<?, ?it/s]"
      ]
     },
     "metadata": {},
     "output_type": "display_data"
    },
    {
     "name": "stdout",
     "output_type": "stream",
     "text": [
      "now computing area = very-frontal, window = 2.5\n"
     ]
    },
    {
     "data": {
      "application/vnd.jupyter.widget-view+json": {
       "model_id": "186a2881debf4168a7752b19f5bf6f3f",
       "version_major": 2,
       "version_minor": 0
      },
      "text/plain": [
       "  0%|          | 0/724 [00:00<?, ?it/s]"
      ]
     },
     "metadata": {},
     "output_type": "display_data"
    },
    {
     "name": "stdout",
     "output_type": "stream",
     "text": [
      "now computing area = very-frontal, window = 3\n"
     ]
    },
    {
     "data": {
      "application/vnd.jupyter.widget-view+json": {
       "model_id": "3183d2a0898f440cb9a45a2fa3814b5f",
       "version_major": 2,
       "version_minor": 0
      },
      "text/plain": [
       "  0%|          | 0/603 [00:00<?, ?it/s]"
      ]
     },
     "metadata": {},
     "output_type": "display_data"
    },
    {
     "name": "stdout",
     "output_type": "stream",
     "text": [
      "now computing area = very-frontal, window = 3.5\n"
     ]
    },
    {
     "data": {
      "application/vnd.jupyter.widget-view+json": {
       "model_id": "1f0eaf19fe3242a28515df8b88276429",
       "version_major": 2,
       "version_minor": 0
      },
      "text/plain": [
       "  0%|          | 0/517 [00:00<?, ?it/s]"
      ]
     },
     "metadata": {},
     "output_type": "display_data"
    },
    {
     "name": "stdout",
     "output_type": "stream",
     "text": [
      "now computing area = very-frontal, window = 4\n"
     ]
    },
    {
     "data": {
      "application/vnd.jupyter.widget-view+json": {
       "model_id": "42bdc482ba284dbc81783fbfbda23676",
       "version_major": 2,
       "version_minor": 0
      },
      "text/plain": [
       "  0%|          | 0/452 [00:00<?, ?it/s]"
      ]
     },
     "metadata": {},
     "output_type": "display_data"
    },
    {
     "name": "stdout",
     "output_type": "stream",
     "text": [
      "now computing area = very-frontal, window = 4.5\n"
     ]
    },
    {
     "data": {
      "application/vnd.jupyter.widget-view+json": {
       "model_id": "bf747230c38a467ab58b626ee81a5030",
       "version_major": 2,
       "version_minor": 0
      },
      "text/plain": [
       "  0%|          | 0/402 [00:00<?, ?it/s]"
      ]
     },
     "metadata": {},
     "output_type": "display_data"
    },
    {
     "name": "stdout",
     "output_type": "stream",
     "text": [
      "now computing area = very-frontal, window = 5\n"
     ]
    },
    {
     "data": {
      "application/vnd.jupyter.widget-view+json": {
       "model_id": "74fbfb669924419eb09c22293c0f8a76",
       "version_major": 2,
       "version_minor": 0
      },
      "text/plain": [
       "  0%|          | 0/362 [00:00<?, ?it/s]"
      ]
     },
     "metadata": {},
     "output_type": "display_data"
    },
    {
     "name": "stdout",
     "output_type": "stream",
     "text": [
      "now computing area = very-frontal, window = 6\n"
     ]
    },
    {
     "data": {
      "application/vnd.jupyter.widget-view+json": {
       "model_id": "62885e3084c74acd8fa7bcfd292412e2",
       "version_major": 2,
       "version_minor": 0
      },
      "text/plain": [
       "  0%|          | 0/301 [00:00<?, ?it/s]"
      ]
     },
     "metadata": {},
     "output_type": "display_data"
    },
    {
     "name": "stdout",
     "output_type": "stream",
     "text": [
      "now computing area = very-frontal, window = 6.5\n"
     ]
    },
    {
     "data": {
      "application/vnd.jupyter.widget-view+json": {
       "model_id": "ca84566e63794c46a40ffab3d639185f",
       "version_major": 2,
       "version_minor": 0
      },
      "text/plain": [
       "  0%|          | 0/278 [00:00<?, ?it/s]"
      ]
     },
     "metadata": {},
     "output_type": "display_data"
    },
    {
     "name": "stdout",
     "output_type": "stream",
     "text": [
      "now computing area = very-frontal, window = 7\n"
     ]
    },
    {
     "data": {
      "application/vnd.jupyter.widget-view+json": {
       "model_id": "01e39e0855cb4193aadd0e7fafc3b211",
       "version_major": 2,
       "version_minor": 0
      },
      "text/plain": [
       "  0%|          | 0/258 [00:00<?, ?it/s]"
      ]
     },
     "metadata": {},
     "output_type": "display_data"
    },
    {
     "name": "stdout",
     "output_type": "stream",
     "text": [
      "now computing area = very-frontal, window = 7.5\n"
     ]
    },
    {
     "data": {
      "application/vnd.jupyter.widget-view+json": {
       "model_id": "687fa35aa58a4e0c9acfd94ce8602958",
       "version_major": 2,
       "version_minor": 0
      },
      "text/plain": [
       "  0%|          | 0/241 [00:00<?, ?it/s]"
      ]
     },
     "metadata": {},
     "output_type": "display_data"
    },
    {
     "name": "stdout",
     "output_type": "stream",
     "text": [
      "now computing area = very-frontal, window = 8\n"
     ]
    },
    {
     "data": {
      "application/vnd.jupyter.widget-view+json": {
       "model_id": "a8f8c5258fb94120a9dce38b2d617020",
       "version_major": 2,
       "version_minor": 0
      },
      "text/plain": [
       "  0%|          | 0/226 [00:00<?, ?it/s]"
      ]
     },
     "metadata": {},
     "output_type": "display_data"
    },
    {
     "name": "stdout",
     "output_type": "stream",
     "text": [
      "now computing area = very-frontal, window = 8.5\n"
     ]
    },
    {
     "data": {
      "application/vnd.jupyter.widget-view+json": {
       "model_id": "b8e626d61eb2420883173f730dfa477b",
       "version_major": 2,
       "version_minor": 0
      },
      "text/plain": [
       "  0%|          | 0/213 [00:00<?, ?it/s]"
      ]
     },
     "metadata": {},
     "output_type": "display_data"
    }
   ],
   "source": [
    "VAR_results = {}\n",
    "windows = [0.2, 0.3, 0.4, 0.5, 1, 1.5, 2, 2.5, 3, 3.5, 4, 4.5, 5, 6, 6.5, 7, 7.5, 8, 8.5, 9, 9.5, 10]\n",
    "# windows = [10]\n",
    "\n",
    "# for area in ['frontal', 'posterior', 'very-frontal', 'all']:\n",
    "# for area in ['frontal', 'posterior', 'very-frontal', 'pre-frontal', 'all']:\n",
    "for area in ['frontal', 'very-frontal', 'all']:\n",
    "# for area in ['test']:\n",
    "    \n",
    "    VAR_results[area] = {}\n",
    "    \n",
    "    if area == 'frontal':\n",
    "        unit_indices = [i for i, c in enumerate(all_electrodes) if c.startswith('F') or c.startswith(\"AF\")]\n",
    "    elif area == 'posterior':\n",
    "        unit_indices = [i for i, c in enumerate(all_electrodes) if not c.startswith('F') and not c.startswith(\"AF\")]\n",
    "    elif area == 'very-frontal':\n",
    "        unit_indices = [i for i, c in enumerate(all_electrodes) if c.startswith('Fp') or c.startswith(\"AF\")]\n",
    "    elif area == 'pre-frontal':\n",
    "        unit_indices = [i for i, c in enumerate(all_electrodes) if c.startswith('Fp')]\n",
    "#     elif area == 'test':\n",
    "#         unit_indices = [i for i, c in enumerate(all_electrodes) if c == 'Fp1' or c == 'Pz']\n",
    "    else: # area == 'all'\n",
    "        unit_indices = np.arange(len(all_electrodes))\n",
    "\n",
    "    \n",
    "    for window in windows:\n",
    "# for area in ['pre-frontal']:\n",
    "        print(f\"now computing area = {area}, window = {window}\")\n",
    "        stride = window\n",
    "\n",
    "        num_windows = int(np.floor((all_eeg.shape[0]-int(window/dt))/int(stride/dt))+1)\n",
    "\n",
    "        all_results = []\n",
    "        for i in tqdm(range(num_windows)):\n",
    "            start_ind = i*int(stride/dt)\n",
    "            end_ind = i*int(stride/dt) + int(window/dt)\n",
    "            window_data = all_eeg[start_ind:end_ind]\n",
    "\n",
    "            try:\n",
    "                results = compute_VAR(window_data, unit_indices=unit_indices)\n",
    "                results['start_time'] = i*stride\n",
    "                results['start_time_ms'] = i*stride*1000\n",
    "                results['start_ind'] = start_ind\n",
    "                results['end_time'] = i*stride + window\n",
    "                results['end_time_ms'] = (i*stride + window)*1000\n",
    "                results['end_ind'] = end_ind\n",
    "                all_results.append(results)\n",
    "            except:\n",
    "                pass\n",
    "                # sometimes this doesn't work because the EEG isn't aligned at the beginning/end\n",
    "        VAR_results[area][window] = pd.DataFrame(all_results)"
   ]
  },
  {
   "cell_type": "markdown",
   "id": "ae326ff4",
   "metadata": {},
   "source": [
    "# Window Selection"
   ]
  },
  {
   "cell_type": "code",
   "execution_count": 11,
   "id": "03d67c16",
   "metadata": {},
   "outputs": [
    {
     "name": "stdout",
     "output_type": "stream",
     "text": [
      "Now computing window = 0.2\n"
     ]
    },
    {
     "data": {
      "application/vnd.jupyter.widget-view+json": {
       "model_id": "d672118dd16a4fa3af9cd01c659fac4b",
       "version_major": 2,
       "version_minor": 0
      },
      "text/plain": [
       "  0%|          | 0/9018 [00:00<?, ?it/s]"
      ]
     },
     "metadata": {},
     "output_type": "display_data"
    },
    {
     "data": {
      "application/vnd.jupyter.widget-view+json": {
       "model_id": "ca21d7533e70441394ccf9f5e10a0744",
       "version_major": 2,
       "version_minor": 0
      },
      "text/plain": [
       "  0%|          | 0/9018 [00:00<?, ?it/s]"
      ]
     },
     "metadata": {},
     "output_type": "display_data"
    },
    {
     "data": {
      "application/vnd.jupyter.widget-view+json": {
       "model_id": "1570e688ac65459b895a85b203b45552",
       "version_major": 2,
       "version_minor": 0
      },
      "text/plain": [
       "  0%|          | 0/9018 [00:00<?, ?it/s]"
      ]
     },
     "metadata": {},
     "output_type": "display_data"
    },
    {
     "name": "stdout",
     "output_type": "stream",
     "text": [
      "Now computing window = 0.3\n"
     ]
    },
    {
     "data": {
      "application/vnd.jupyter.widget-view+json": {
       "model_id": "0e563ac58e22403a95747a76f984806d",
       "version_major": 2,
       "version_minor": 0
      },
      "text/plain": [
       "  0%|          | 0/6011 [00:00<?, ?it/s]"
      ]
     },
     "metadata": {},
     "output_type": "display_data"
    },
    {
     "data": {
      "application/vnd.jupyter.widget-view+json": {
       "model_id": "a318fcda56ca4a93a0700655939af395",
       "version_major": 2,
       "version_minor": 0
      },
      "text/plain": [
       "  0%|          | 0/6011 [00:00<?, ?it/s]"
      ]
     },
     "metadata": {},
     "output_type": "display_data"
    },
    {
     "data": {
      "application/vnd.jupyter.widget-view+json": {
       "model_id": "655dab37a1f943c9a2481cf0cce506dc",
       "version_major": 2,
       "version_minor": 0
      },
      "text/plain": [
       "  0%|          | 0/6011 [00:00<?, ?it/s]"
      ]
     },
     "metadata": {},
     "output_type": "display_data"
    },
    {
     "name": "stdout",
     "output_type": "stream",
     "text": [
      "Now computing window = 0.4\n"
     ]
    },
    {
     "data": {
      "application/vnd.jupyter.widget-view+json": {
       "model_id": "ade469f4bb324e64b697b09b68421a89",
       "version_major": 2,
       "version_minor": 0
      },
      "text/plain": [
       "  0%|          | 0/4508 [00:00<?, ?it/s]"
      ]
     },
     "metadata": {},
     "output_type": "display_data"
    },
    {
     "data": {
      "application/vnd.jupyter.widget-view+json": {
       "model_id": "8dfa146879e847ea9a4872795ea2474d",
       "version_major": 2,
       "version_minor": 0
      },
      "text/plain": [
       "  0%|          | 0/4508 [00:00<?, ?it/s]"
      ]
     },
     "metadata": {},
     "output_type": "display_data"
    },
    {
     "data": {
      "application/vnd.jupyter.widget-view+json": {
       "model_id": "c8b6707214d14ac9ba540ccd66d9ae98",
       "version_major": 2,
       "version_minor": 0
      },
      "text/plain": [
       "  0%|          | 0/4508 [00:00<?, ?it/s]"
      ]
     },
     "metadata": {},
     "output_type": "display_data"
    },
    {
     "name": "stdout",
     "output_type": "stream",
     "text": [
      "Now computing window = 0.5\n"
     ]
    },
    {
     "data": {
      "application/vnd.jupyter.widget-view+json": {
       "model_id": "11b8a8e1f32646f8b121fa279d1f9ad3",
       "version_major": 2,
       "version_minor": 0
      },
      "text/plain": [
       "  0%|          | 0/3606 [00:00<?, ?it/s]"
      ]
     },
     "metadata": {},
     "output_type": "display_data"
    },
    {
     "data": {
      "application/vnd.jupyter.widget-view+json": {
       "model_id": "6aeff67368684cfc964a0055cb17b9ff",
       "version_major": 2,
       "version_minor": 0
      },
      "text/plain": [
       "  0%|          | 0/3606 [00:00<?, ?it/s]"
      ]
     },
     "metadata": {},
     "output_type": "display_data"
    },
    {
     "data": {
      "application/vnd.jupyter.widget-view+json": {
       "model_id": "2b570b6f72ff4e3ba9f2a9a34459ebdc",
       "version_major": 2,
       "version_minor": 0
      },
      "text/plain": [
       "  0%|          | 0/3606 [00:00<?, ?it/s]"
      ]
     },
     "metadata": {},
     "output_type": "display_data"
    },
    {
     "name": "stdout",
     "output_type": "stream",
     "text": [
      "Now computing window = 1\n"
     ]
    },
    {
     "data": {
      "application/vnd.jupyter.widget-view+json": {
       "model_id": "3151f640750048e2889dec727fa57f8d",
       "version_major": 2,
       "version_minor": 0
      },
      "text/plain": [
       "  0%|          | 0/1802 [00:00<?, ?it/s]"
      ]
     },
     "metadata": {},
     "output_type": "display_data"
    },
    {
     "data": {
      "application/vnd.jupyter.widget-view+json": {
       "model_id": "052da0c97736447181cb0a99b5f3bd61",
       "version_major": 2,
       "version_minor": 0
      },
      "text/plain": [
       "  0%|          | 0/1802 [00:00<?, ?it/s]"
      ]
     },
     "metadata": {},
     "output_type": "display_data"
    },
    {
     "data": {
      "application/vnd.jupyter.widget-view+json": {
       "model_id": "301362d2b8954aa69bf86ebfe4f92233",
       "version_major": 2,
       "version_minor": 0
      },
      "text/plain": [
       "  0%|          | 0/1802 [00:00<?, ?it/s]"
      ]
     },
     "metadata": {},
     "output_type": "display_data"
    },
    {
     "name": "stdout",
     "output_type": "stream",
     "text": [
      "Now computing window = 1.5\n"
     ]
    },
    {
     "data": {
      "application/vnd.jupyter.widget-view+json": {
       "model_id": "dae3fb46f66d413fa3e61eefc7d43ffb",
       "version_major": 2,
       "version_minor": 0
      },
      "text/plain": [
       "  0%|          | 0/1201 [00:00<?, ?it/s]"
      ]
     },
     "metadata": {},
     "output_type": "display_data"
    },
    {
     "data": {
      "application/vnd.jupyter.widget-view+json": {
       "model_id": "f84e22fee312475ea9bb54453791f2f6",
       "version_major": 2,
       "version_minor": 0
      },
      "text/plain": [
       "  0%|          | 0/1201 [00:00<?, ?it/s]"
      ]
     },
     "metadata": {},
     "output_type": "display_data"
    },
    {
     "data": {
      "application/vnd.jupyter.widget-view+json": {
       "model_id": "21432c538f3249d29023f7ae9a077517",
       "version_major": 2,
       "version_minor": 0
      },
      "text/plain": [
       "  0%|          | 0/1201 [00:00<?, ?it/s]"
      ]
     },
     "metadata": {},
     "output_type": "display_data"
    },
    {
     "name": "stdout",
     "output_type": "stream",
     "text": [
      "Now computing window = 2\n"
     ]
    },
    {
     "data": {
      "application/vnd.jupyter.widget-view+json": {
       "model_id": "fab18b6f47154bf3985b7ad3bab55a43",
       "version_major": 2,
       "version_minor": 0
      },
      "text/plain": [
       "  0%|          | 0/900 [00:00<?, ?it/s]"
      ]
     },
     "metadata": {},
     "output_type": "display_data"
    },
    {
     "data": {
      "application/vnd.jupyter.widget-view+json": {
       "model_id": "25c7a75c22be43428c1363e71f3c339e",
       "version_major": 2,
       "version_minor": 0
      },
      "text/plain": [
       "  0%|          | 0/900 [00:00<?, ?it/s]"
      ]
     },
     "metadata": {},
     "output_type": "display_data"
    },
    {
     "data": {
      "application/vnd.jupyter.widget-view+json": {
       "model_id": "e7b54689f6c945ac98c65f7b2eec135f",
       "version_major": 2,
       "version_minor": 0
      },
      "text/plain": [
       "  0%|          | 0/900 [00:00<?, ?it/s]"
      ]
     },
     "metadata": {},
     "output_type": "display_data"
    },
    {
     "name": "stdout",
     "output_type": "stream",
     "text": [
      "Now computing window = 2.5\n"
     ]
    },
    {
     "data": {
      "application/vnd.jupyter.widget-view+json": {
       "model_id": "f1476a7383e14d489690a44b7457ba38",
       "version_major": 2,
       "version_minor": 0
      },
      "text/plain": [
       "  0%|          | 0/720 [00:00<?, ?it/s]"
      ]
     },
     "metadata": {},
     "output_type": "display_data"
    },
    {
     "data": {
      "application/vnd.jupyter.widget-view+json": {
       "model_id": "eea91c772c434681990624c7620bdf98",
       "version_major": 2,
       "version_minor": 0
      },
      "text/plain": [
       "  0%|          | 0/720 [00:00<?, ?it/s]"
      ]
     },
     "metadata": {},
     "output_type": "display_data"
    },
    {
     "data": {
      "application/vnd.jupyter.widget-view+json": {
       "model_id": "c8f26ba6f6934e27beae76c392f85be6",
       "version_major": 2,
       "version_minor": 0
      },
      "text/plain": [
       "  0%|          | 0/720 [00:00<?, ?it/s]"
      ]
     },
     "metadata": {},
     "output_type": "display_data"
    },
    {
     "name": "stdout",
     "output_type": "stream",
     "text": [
      "Now computing window = 3\n"
     ]
    },
    {
     "data": {
      "application/vnd.jupyter.widget-view+json": {
       "model_id": "48d9563571a849c88db791ee97b5846e",
       "version_major": 2,
       "version_minor": 0
      },
      "text/plain": [
       "  0%|          | 0/600 [00:00<?, ?it/s]"
      ]
     },
     "metadata": {},
     "output_type": "display_data"
    },
    {
     "data": {
      "application/vnd.jupyter.widget-view+json": {
       "model_id": "36bb179a14c445fba4fc798b066ac669",
       "version_major": 2,
       "version_minor": 0
      },
      "text/plain": [
       "  0%|          | 0/600 [00:00<?, ?it/s]"
      ]
     },
     "metadata": {},
     "output_type": "display_data"
    },
    {
     "data": {
      "application/vnd.jupyter.widget-view+json": {
       "model_id": "235fe8e826ba468b89c3aa54dd8076fe",
       "version_major": 2,
       "version_minor": 0
      },
      "text/plain": [
       "  0%|          | 0/600 [00:00<?, ?it/s]"
      ]
     },
     "metadata": {},
     "output_type": "display_data"
    },
    {
     "name": "stdout",
     "output_type": "stream",
     "text": [
      "Now computing window = 3.5\n"
     ]
    },
    {
     "data": {
      "application/vnd.jupyter.widget-view+json": {
       "model_id": "ec0283931fce4a039a39ec43b744b5d6",
       "version_major": 2,
       "version_minor": 0
      },
      "text/plain": [
       "  0%|          | 0/514 [00:00<?, ?it/s]"
      ]
     },
     "metadata": {},
     "output_type": "display_data"
    },
    {
     "data": {
      "application/vnd.jupyter.widget-view+json": {
       "model_id": "0dd27e6a20a74614b76fcdbb485b025a",
       "version_major": 2,
       "version_minor": 0
      },
      "text/plain": [
       "  0%|          | 0/514 [00:00<?, ?it/s]"
      ]
     },
     "metadata": {},
     "output_type": "display_data"
    },
    {
     "data": {
      "application/vnd.jupyter.widget-view+json": {
       "model_id": "02516505447a4550ac447e22c5b122ad",
       "version_major": 2,
       "version_minor": 0
      },
      "text/plain": [
       "  0%|          | 0/514 [00:00<?, ?it/s]"
      ]
     },
     "metadata": {},
     "output_type": "display_data"
    },
    {
     "name": "stdout",
     "output_type": "stream",
     "text": [
      "Now computing window = 4\n"
     ]
    },
    {
     "data": {
      "application/vnd.jupyter.widget-view+json": {
       "model_id": "a0c1da456412499aaee23da855772c80",
       "version_major": 2,
       "version_minor": 0
      },
      "text/plain": [
       "  0%|          | 0/449 [00:00<?, ?it/s]"
      ]
     },
     "metadata": {},
     "output_type": "display_data"
    },
    {
     "data": {
      "application/vnd.jupyter.widget-view+json": {
       "model_id": "a6e9ecb3ab5848588650d37c2607495d",
       "version_major": 2,
       "version_minor": 0
      },
      "text/plain": [
       "  0%|          | 0/449 [00:00<?, ?it/s]"
      ]
     },
     "metadata": {},
     "output_type": "display_data"
    },
    {
     "data": {
      "application/vnd.jupyter.widget-view+json": {
       "model_id": "7726b6c09b52462cb6551d2173711ba8",
       "version_major": 2,
       "version_minor": 0
      },
      "text/plain": [
       "  0%|          | 0/449 [00:00<?, ?it/s]"
      ]
     },
     "metadata": {},
     "output_type": "display_data"
    },
    {
     "name": "stdout",
     "output_type": "stream",
     "text": [
      "Now computing window = 4.5\n"
     ]
    },
    {
     "data": {
      "application/vnd.jupyter.widget-view+json": {
       "model_id": "b197a58aea1344a7a9b6c8d962e92cac",
       "version_major": 2,
       "version_minor": 0
      },
      "text/plain": [
       "  0%|          | 0/399 [00:00<?, ?it/s]"
      ]
     },
     "metadata": {},
     "output_type": "display_data"
    },
    {
     "data": {
      "application/vnd.jupyter.widget-view+json": {
       "model_id": "ffe347b0a25c4863816af019e57f4d79",
       "version_major": 2,
       "version_minor": 0
      },
      "text/plain": [
       "  0%|          | 0/399 [00:00<?, ?it/s]"
      ]
     },
     "metadata": {},
     "output_type": "display_data"
    },
    {
     "data": {
      "application/vnd.jupyter.widget-view+json": {
       "model_id": "442236843f8f4cff8dcefc98ac04d52b",
       "version_major": 2,
       "version_minor": 0
      },
      "text/plain": [
       "  0%|          | 0/399 [00:00<?, ?it/s]"
      ]
     },
     "metadata": {},
     "output_type": "display_data"
    },
    {
     "name": "stdout",
     "output_type": "stream",
     "text": [
      "Now computing window = 5\n"
     ]
    },
    {
     "data": {
      "application/vnd.jupyter.widget-view+json": {
       "model_id": "29e82bbb4a81449482be70a0a3fce419",
       "version_major": 2,
       "version_minor": 0
      },
      "text/plain": [
       "  0%|          | 0/359 [00:00<?, ?it/s]"
      ]
     },
     "metadata": {},
     "output_type": "display_data"
    },
    {
     "data": {
      "application/vnd.jupyter.widget-view+json": {
       "model_id": "b0fb4c836ab84a068a1c728155e2de58",
       "version_major": 2,
       "version_minor": 0
      },
      "text/plain": [
       "  0%|          | 0/359 [00:00<?, ?it/s]"
      ]
     },
     "metadata": {},
     "output_type": "display_data"
    },
    {
     "data": {
      "application/vnd.jupyter.widget-view+json": {
       "model_id": "b6319f84a0394fc8ac39d26a45e54880",
       "version_major": 2,
       "version_minor": 0
      },
      "text/plain": [
       "  0%|          | 0/359 [00:00<?, ?it/s]"
      ]
     },
     "metadata": {},
     "output_type": "display_data"
    },
    {
     "name": "stdout",
     "output_type": "stream",
     "text": [
      "Now computing window = 6\n"
     ]
    },
    {
     "data": {
      "application/vnd.jupyter.widget-view+json": {
       "model_id": "e8ebd0b473f240c1b3e79ec0bac8683b",
       "version_major": 2,
       "version_minor": 0
      },
      "text/plain": [
       "  0%|          | 0/299 [00:00<?, ?it/s]"
      ]
     },
     "metadata": {},
     "output_type": "display_data"
    },
    {
     "data": {
      "application/vnd.jupyter.widget-view+json": {
       "model_id": "009f1b4a9cbb4b9a818d1d829ab008df",
       "version_major": 2,
       "version_minor": 0
      },
      "text/plain": [
       "  0%|          | 0/299 [00:00<?, ?it/s]"
      ]
     },
     "metadata": {},
     "output_type": "display_data"
    },
    {
     "data": {
      "application/vnd.jupyter.widget-view+json": {
       "model_id": "5ce990168ea54e9f8e0f21344c4c5ac9",
       "version_major": 2,
       "version_minor": 0
      },
      "text/plain": [
       "  0%|          | 0/299 [00:00<?, ?it/s]"
      ]
     },
     "metadata": {},
     "output_type": "display_data"
    },
    {
     "name": "stdout",
     "output_type": "stream",
     "text": [
      "Now computing window = 6.5\n"
     ]
    },
    {
     "data": {
      "application/vnd.jupyter.widget-view+json": {
       "model_id": "3aed27ed36a04cb89a57565f6c88cf8e",
       "version_major": 2,
       "version_minor": 0
      },
      "text/plain": [
       "  0%|          | 0/276 [00:00<?, ?it/s]"
      ]
     },
     "metadata": {},
     "output_type": "display_data"
    },
    {
     "data": {
      "application/vnd.jupyter.widget-view+json": {
       "model_id": "3bbfe314839c4e2a8fa4fae628ab1bff",
       "version_major": 2,
       "version_minor": 0
      },
      "text/plain": [
       "  0%|          | 0/276 [00:00<?, ?it/s]"
      ]
     },
     "metadata": {},
     "output_type": "display_data"
    },
    {
     "data": {
      "application/vnd.jupyter.widget-view+json": {
       "model_id": "16c106611ca7416e87768858502cd368",
       "version_major": 2,
       "version_minor": 0
      },
      "text/plain": [
       "  0%|          | 0/276 [00:00<?, ?it/s]"
      ]
     },
     "metadata": {},
     "output_type": "display_data"
    },
    {
     "name": "stdout",
     "output_type": "stream",
     "text": [
      "Now computing window = 7\n"
     ]
    },
    {
     "data": {
      "application/vnd.jupyter.widget-view+json": {
       "model_id": "ee61832516f54881bb064b082f13c64e",
       "version_major": 2,
       "version_minor": 0
      },
      "text/plain": [
       "  0%|          | 0/256 [00:00<?, ?it/s]"
      ]
     },
     "metadata": {},
     "output_type": "display_data"
    },
    {
     "data": {
      "application/vnd.jupyter.widget-view+json": {
       "model_id": "28d5f79ddf0c460fb327ddad3512eb17",
       "version_major": 2,
       "version_minor": 0
      },
      "text/plain": [
       "  0%|          | 0/256 [00:00<?, ?it/s]"
      ]
     },
     "metadata": {},
     "output_type": "display_data"
    },
    {
     "data": {
      "application/vnd.jupyter.widget-view+json": {
       "model_id": "96a9006c97eb4f93a3b91147b8985e41",
       "version_major": 2,
       "version_minor": 0
      },
      "text/plain": [
       "  0%|          | 0/256 [00:00<?, ?it/s]"
      ]
     },
     "metadata": {},
     "output_type": "display_data"
    },
    {
     "name": "stdout",
     "output_type": "stream",
     "text": [
      "Now computing window = 7.5\n"
     ]
    },
    {
     "data": {
      "application/vnd.jupyter.widget-view+json": {
       "model_id": "e7be76c01af64b62b93276583ff87179",
       "version_major": 2,
       "version_minor": 0
      },
      "text/plain": [
       "  0%|          | 0/239 [00:00<?, ?it/s]"
      ]
     },
     "metadata": {},
     "output_type": "display_data"
    },
    {
     "data": {
      "application/vnd.jupyter.widget-view+json": {
       "model_id": "a03ebaafdc2742b2965776d6c66eeca8",
       "version_major": 2,
       "version_minor": 0
      },
      "text/plain": [
       "  0%|          | 0/239 [00:00<?, ?it/s]"
      ]
     },
     "metadata": {},
     "output_type": "display_data"
    },
    {
     "data": {
      "application/vnd.jupyter.widget-view+json": {
       "model_id": "8e26ab80cfbc492ea9e8d2be9b0f0a40",
       "version_major": 2,
       "version_minor": 0
      },
      "text/plain": [
       "  0%|          | 0/239 [00:00<?, ?it/s]"
      ]
     },
     "metadata": {},
     "output_type": "display_data"
    },
    {
     "name": "stdout",
     "output_type": "stream",
     "text": [
      "Now computing window = 8\n"
     ]
    },
    {
     "data": {
      "application/vnd.jupyter.widget-view+json": {
       "model_id": "70eaae6b0e9c4188932114e56ed8cada",
       "version_major": 2,
       "version_minor": 0
      },
      "text/plain": [
       "  0%|          | 0/224 [00:00<?, ?it/s]"
      ]
     },
     "metadata": {},
     "output_type": "display_data"
    },
    {
     "data": {
      "application/vnd.jupyter.widget-view+json": {
       "model_id": "2f57e23fac9144978ff7c93ff3066b03",
       "version_major": 2,
       "version_minor": 0
      },
      "text/plain": [
       "  0%|          | 0/224 [00:00<?, ?it/s]"
      ]
     },
     "metadata": {},
     "output_type": "display_data"
    },
    {
     "data": {
      "application/vnd.jupyter.widget-view+json": {
       "model_id": "aca3f3a8777d4b70809e4aa3f1207f06",
       "version_major": 2,
       "version_minor": 0
      },
      "text/plain": [
       "  0%|          | 0/224 [00:00<?, ?it/s]"
      ]
     },
     "metadata": {},
     "output_type": "display_data"
    },
    {
     "name": "stdout",
     "output_type": "stream",
     "text": [
      "Now computing window = 8.5\n"
     ]
    },
    {
     "data": {
      "application/vnd.jupyter.widget-view+json": {
       "model_id": "dffe047421af40ffac70222d494ae3f5",
       "version_major": 2,
       "version_minor": 0
      },
      "text/plain": [
       "  0%|          | 0/211 [00:00<?, ?it/s]"
      ]
     },
     "metadata": {},
     "output_type": "display_data"
    },
    {
     "data": {
      "application/vnd.jupyter.widget-view+json": {
       "model_id": "ce48da5ddad5480b982e990e52480eae",
       "version_major": 2,
       "version_minor": 0
      },
      "text/plain": [
       "  0%|          | 0/211 [00:00<?, ?it/s]"
      ]
     },
     "metadata": {},
     "output_type": "display_data"
    },
    {
     "data": {
      "application/vnd.jupyter.widget-view+json": {
       "model_id": "2068bb997444410193e3c0a48790c6e1",
       "version_major": 2,
       "version_minor": 0
      },
      "text/plain": [
       "  0%|          | 0/211 [00:00<?, ?it/s]"
      ]
     },
     "metadata": {},
     "output_type": "display_data"
    },
    {
     "name": "stdout",
     "output_type": "stream",
     "text": [
      "Now computing window = 9\n"
     ]
    },
    {
     "data": {
      "application/vnd.jupyter.widget-view+json": {
       "model_id": "bab5bec2ea7e47cdbeea3b4bad2ff878",
       "version_major": 2,
       "version_minor": 0
      },
      "text/plain": [
       "  0%|          | 0/199 [00:00<?, ?it/s]"
      ]
     },
     "metadata": {},
     "output_type": "display_data"
    },
    {
     "data": {
      "application/vnd.jupyter.widget-view+json": {
       "model_id": "3800e394a81d4bf190410b7cf331bdec",
       "version_major": 2,
       "version_minor": 0
      },
      "text/plain": [
       "  0%|          | 0/199 [00:00<?, ?it/s]"
      ]
     },
     "metadata": {},
     "output_type": "display_data"
    },
    {
     "data": {
      "application/vnd.jupyter.widget-view+json": {
       "model_id": "c53ac3d8830f4499a368ee6dc188e625",
       "version_major": 2,
       "version_minor": 0
      },
      "text/plain": [
       "  0%|          | 0/199 [00:00<?, ?it/s]"
      ]
     },
     "metadata": {},
     "output_type": "display_data"
    },
    {
     "name": "stdout",
     "output_type": "stream",
     "text": [
      "Now computing window = 9.5\n"
     ]
    },
    {
     "data": {
      "application/vnd.jupyter.widget-view+json": {
       "model_id": "5caafb1297c149678fbdb3cc274b467b",
       "version_major": 2,
       "version_minor": 0
      },
      "text/plain": [
       "  0%|          | 0/188 [00:00<?, ?it/s]"
      ]
     },
     "metadata": {},
     "output_type": "display_data"
    },
    {
     "data": {
      "application/vnd.jupyter.widget-view+json": {
       "model_id": "e2cb0a55618c44c4890678fbbb73a5f7",
       "version_major": 2,
       "version_minor": 0
      },
      "text/plain": [
       "  0%|          | 0/188 [00:00<?, ?it/s]"
      ]
     },
     "metadata": {},
     "output_type": "display_data"
    },
    {
     "data": {
      "application/vnd.jupyter.widget-view+json": {
       "model_id": "577a50483836444f99cbc45fb7d0d81b",
       "version_major": 2,
       "version_minor": 0
      },
      "text/plain": [
       "  0%|          | 0/188 [00:00<?, ?it/s]"
      ]
     },
     "metadata": {},
     "output_type": "display_data"
    },
    {
     "name": "stdout",
     "output_type": "stream",
     "text": [
      "Now computing window = 10\n"
     ]
    },
    {
     "data": {
      "application/vnd.jupyter.widget-view+json": {
       "model_id": "b12a8b23c887481eb4af1703e7786ab9",
       "version_major": 2,
       "version_minor": 0
      },
      "text/plain": [
       "  0%|          | 0/179 [00:00<?, ?it/s]"
      ]
     },
     "metadata": {},
     "output_type": "display_data"
    },
    {
     "data": {
      "application/vnd.jupyter.widget-view+json": {
       "model_id": "559562384fee407cb839ee35f7df7812",
       "version_major": 2,
       "version_minor": 0
      },
      "text/plain": [
       "  0%|          | 0/179 [00:00<?, ?it/s]"
      ]
     },
     "metadata": {},
     "output_type": "display_data"
    },
    {
     "data": {
      "application/vnd.jupyter.widget-view+json": {
       "model_id": "b0d6df9637c34cc484d5efc189f4ee45",
       "version_major": 2,
       "version_minor": 0
      },
      "text/plain": [
       "  0%|          | 0/179 [00:00<?, ?it/s]"
      ]
     },
     "metadata": {},
     "output_type": "display_data"
    }
   ],
   "source": [
    "T_pred = 10\n",
    "\n",
    "predictions = {}\n",
    "true_vals = {}\n",
    "step_mse = {}\n",
    "for area in VAR_results.keys():\n",
    "    predictions[area] = {}\n",
    "    true_vals[area] = {}\n",
    "    step_mse[area] = {}\n",
    "    \n",
    "for window in windows:\n",
    "    stride = window\n",
    "    print(f\"Now computing window = {window}\")\n",
    "\n",
    "    for area in VAR_results.keys():\n",
    "        if area == 'frontal':\n",
    "            unit_indices = [i for i, c in enumerate(all_electrodes) if c.startswith('F') or c.startswith(\"AF\")]\n",
    "        elif area == 'posterior':\n",
    "            unit_indices = [i for i, c in enumerate(all_electrodes) if not c.startswith('F') and not c.startswith(\"AF\")]\n",
    "        elif area == 'very-frontal':\n",
    "            unit_indices = [i for i, c in enumerate(all_electrodes) if c.startswith('Fp') or c.startswith(\"AF\")]\n",
    "        elif area == 'pre-frontal':\n",
    "            unit_indices = [i for i, c in enumerate(all_electrodes) if c.startswith('Fp')]\n",
    "        else: # area == 'all'\n",
    "            unit_indices = np.arange(len(all_electrodes))\n",
    "            \n",
    "        predictions[area][window] = np.zeros((len(VAR_results[area][window]) - 1, T_pred, len(unit_indices)))\n",
    "        true_vals[area][window] = np.zeros(predictions[area][window].shape)\n",
    "\n",
    "        for i in tqdm(range(predictions[area][window].shape[0])):\n",
    "            row = VAR_results[area][window].iloc[i]\n",
    "            start_step = int(stride*i/dt)\n",
    "            x0 = all_eeg[start_step + int(window/dt) - 1, unit_indices]\n",
    "\n",
    "            for t in range(T_pred):\n",
    "                predictions[area][window][i, t] = np.hstack([[1], all_eeg[start_step + int(window/dt) - 1 + t, unit_indices]]) @ row.A_mat_with_bias\n",
    "#                 if t == 0:\n",
    "#                     predictions[area][window][i, t] = np.hstack([[1], x0]) @ row.A_mat_with_bias\n",
    "#                 else:\n",
    "#                     predictions[area][window][i, t] = np.hstack([[1], predictions[area][window][i, t - 1]]) @ row.A_mat_with_bias\n",
    "\n",
    "            true_vals[area][window][i] = all_eeg[start_step + int(window/dt):start_step + int(window/dt) + T_pred, unit_indices]\n",
    "\n",
    "        step_mse[area][window] = ((predictions[area][window] - true_vals[area][window])**2).mean(axis=2)"
   ]
  },
  {
   "cell_type": "code",
   "execution_count": 12,
   "id": "2fa7f992",
   "metadata": {},
   "outputs": [],
   "source": [
    "pct_of_value = 0.95"
   ]
  },
  {
   "cell_type": "code",
   "execution_count": 16,
   "id": "9d33b08d",
   "metadata": {},
   "outputs": [
    {
     "data": {
      "image/png": "[encoded data removed]",
      "text/plain": [
       "<Figure size 864x576 with 1 Axes>"
      ]
     },
     "metadata": {
      "needs_background": "light"
     },
     "output_type": "display_data"
    }
   ],
   "source": [
    "selected_windows = {}\n",
    "plt.figure(figsize=(12, 8))\n",
    "pred_steps = 10\n",
    "for area in VAR_results.keys():\n",
    "    window_mses = [step_mse[area][window][:].mean() for window in windows]\n",
    "    \n",
    "    asymptotic_value = np.array(window_mses).min()\n",
    "    asymptotic_ind = np.argmin(window_mses)\n",
    "    for i in range(len(window_mses)):\n",
    "        if window_mses[i]*pct_of_value <= asymptotic_value or i == asymptotic_ind:\n",
    "            selected_windows[area] = windows[i]\n",
    "            break\n",
    "\n",
    "#     plt.plot(windows, window_mses, label=area)\n",
    "#     plt.plot(selected_windows)\n",
    "    \n",
    "for i, area in enumerate(step_mse.keys()):\n",
    "#     ax = axs[int(i/2), i % 2]\n",
    "    mse_per_window = np.array([step_mse[area][window][:].mean() for window in windows])\n",
    "    min_val = mse_per_window.min()\n",
    "    max_val = mse_per_window.max()\n",
    "    mse_per_window -= min_val\n",
    "    mse_per_window /= max_val - min_val\n",
    "    plt.plot(windows, mse_per_window, label=area)\n",
    "    pt = step_mse[area][selected_windows[area]][:].mean()\n",
    "    pt -= min_val\n",
    "    pt /= max_val - min_val\n",
    "#         if num == 2 and area == '7b':\n",
    "#             print(mse_per_window*0.95)\n",
    "#             print(pt)\n",
    "    plt.scatter(selected_windows[area], pt, color='k')\n",
    "    \n",
    "plt.xlabel(\"Window Size (s)\")\n",
    "plt.ylabel(\"MSE\")\n",
    "plt.legend()\n",
    "plt.show()"
   ]
  },
  {
   "cell_type": "code",
   "execution_count": 17,
   "id": "20b1655c",
   "metadata": {},
   "outputs": [
    {
     "data": {
      "text/plain": [
       "{'frontal': 5, 'very-frontal': 5, 'all': 10}"
      ]
     },
     "execution_count": 17,
     "metadata": {},
     "output_type": "execute_result"
    }
   ],
   "source": [
    "selected_windows"
   ]
  },
  {
   "cell_type": "code",
   "execution_count": 18,
   "id": "2536d2e2",
   "metadata": {},
   "outputs": [],
   "source": [
    "# area = 'frontal'\n",
    "# window = 0.3"
   ]
  },
  {
   "cell_type": "code",
   "execution_count": 19,
   "id": "0ef3870a",
   "metadata": {},
   "outputs": [],
   "source": [
    "# time_in_session = 15*60 + 9.5 # s\n",
    "# window_num = int(time_in_session/window)"
   ]
  },
  {
   "cell_type": "code",
   "execution_count": 20,
   "id": "e73228f4",
   "metadata": {},
   "outputs": [],
   "source": [
    "# rows = 5\n",
    "# cols = 5\n",
    "# fig, axs = plt.subplots(rows, cols, figsize=(15, 8), sharex=True)\n",
    "# unit_nums = np.arange(rows*cols)\n",
    "# # unit_nums = np.random.choice(predictions[area][window].shape[2], size=(rows*cols,), replace=False)\n",
    "# for i, unit_num in enumerate(unit_nums):\n",
    "#     ax = axs[int(i/rows)][i%rows]\n",
    "#     ax.plot(true_vals[area][window][window_num, :, unit_num], label='true_vals')\n",
    "#     ax.plot(predictions[area][window][window_num, :, unit_num], label='predictions')\n",
    "#     ax.set_title(f'Unit #{unit_num}')\n",
    "# plt.suptitle(f\"Predictions Across Randomly Choosen Units\\narea = {area}, window = {window}, {int(time_in_session/window)*window}s into session\\nMSE on this window at final step = {step_mse[area][window][window_num, -1]:.6f}, MSE on Whole Session at Final Step = {step_mse[area][window][:, -1].mean():.6f}\\nMSE on this window at all steps = {step_mse[area][window][window_num, :].mean():.6f}, MSE on Whole Session at Final Step = {step_mse[area][window][:, :].mean():.6f}\")\n",
    "# plt.tight_layout()\n",
    "# plt.show()"
   ]
  },
  {
   "cell_type": "markdown",
   "id": "e0e656f7",
   "metadata": {},
   "source": [
    "# Plot"
   ]
  },
  {
   "cell_type": "code",
   "execution_count": 21,
   "id": "ed0e7e86",
   "metadata": {},
   "outputs": [],
   "source": [
    "colors = {'W': 'limegreen', 'w': 'limegreen', '1': 'gold', '2': 'darkorange', '3': 'coral', 'SWS': 'coral', '4': 'indianred', 'R': 'magenta', '?': 'gray', 'e': 'gray'}"
   ]
  },
  {
   "cell_type": "code",
   "execution_count": 22,
   "id": "382938f4",
   "metadata": {},
   "outputs": [],
   "source": [
    "window = 5"
   ]
  },
  {
   "cell_type": "code",
   "execution_count": 31,
   "id": "f37ae27e",
   "metadata": {},
   "outputs": [
    {
     "data": {
      "image/png": "[encoded data removed]",
      "text/plain": [
       "<Figure size 864x576 with 1 Axes>"
      ]
     },
     "metadata": {
      "needs_background": "light"
     },
     "output_type": "display_data"
    }
   ],
   "source": [
    "plt.figure(figsize=(12, 8))\n",
    "min_val = np.Inf\n",
    "max_val = -np.Inf\n",
    "for i, area in enumerate(VAR_results.keys()):\n",
    "# for area in ['frontal']:\n",
    "    time_vals = VAR_results[area][selected_windows[area]].start_time\n",
    "    mean_vals = VAR_results[area][selected_windows[area]].criticality_inds.apply(lambda x: x.mean())\n",
    "    plt.plot(time_vals/60, mean_vals, label=area)\n",
    "    std_error = VAR_results[area][selected_windows[area]].criticality_inds.apply(lambda x: x.std()/np.sqrt(len(x)))\n",
    "    if (mean_vals - std_error).min() < min_val:\n",
    "        min_val = (mean_vals - std_error).min()\n",
    "    if (mean_vals + std_error).max() > max_val:\n",
    "        max_val = (mean_vals + std_error).max()\n",
    "    plt.fill_between(time_vals/60, mean_vals - std_error, mean_vals + std_error, color=f\"C{i}\", alpha=0.3)\n",
    "plt.xlabel('Time in Session (min)')\n",
    "plt.ylabel(\"Mean Criticality\")\n",
    "\n",
    "\n",
    "seen = {}\n",
    "for stage in colors.keys():\n",
    "    seen[stage] = False\n",
    "for i, row in hypnogram_df.iterrows():\n",
    "    plt.fill_between(np.arange(row.start_time, row.end_time)/60, min_val, max_val, color=colors[row.sleep_stage], label=row.sleep_stage if not seen[row.sleep_stage] else \"\", alpha=0.2)\n",
    "    seen[row.sleep_stage] = True\n",
    "plt.legend()\n",
    "plt.title(f\"Mean Criticality Over Session for Subject {sub} Day {day}\\n{selected_windows}\", fontsize=18)\n",
    "plt.show()"
   ]
  },
  {
   "cell_type": "markdown",
   "id": "a29407c6",
   "metadata": {},
   "source": [
    "# Binning"
   ]
  },
  {
   "cell_type": "code",
   "execution_count": 25,
   "id": "5e4235c6",
   "metadata": {},
   "outputs": [
    {
     "data": {
      "application/vnd.jupyter.widget-view+json": {
       "model_id": "f333c7b307064070ac7564bac37648fc",
       "version_major": 2,
       "version_minor": 0
      },
      "text/plain": [
       "  0%|          | 0/360 [00:00<?, ?it/s]"
      ]
     },
     "metadata": {},
     "output_type": "display_data"
    },
    {
     "data": {
      "application/vnd.jupyter.widget-view+json": {
       "model_id": "cddb9960d2c240559db4a38ccc617079",
       "version_major": 2,
       "version_minor": 0
      },
      "text/plain": [
       "  0%|          | 0/360 [00:00<?, ?it/s]"
      ]
     },
     "metadata": {},
     "output_type": "display_data"
    },
    {
     "data": {
      "application/vnd.jupyter.widget-view+json": {
       "model_id": "b2cc623372e04392b1d4e71cc305e0f4",
       "version_major": 2,
       "version_minor": 0
      },
      "text/plain": [
       "  0%|          | 0/360 [00:00<?, ?it/s]"
      ]
     },
     "metadata": {},
     "output_type": "display_data"
    }
   ],
   "source": [
    "for area in VAR_results.keys():\n",
    "    VAR_results[area][window]['sleep_stage'] = [None]*len(VAR_results[area][window])\n",
    "    for i, row in tqdm(VAR_results[area][window].iterrows(), total=len(VAR_results[area][window])):\n",
    "        sleep_stage_counts = {'w': 0, '1': 0, '2': 0, 'SWS': 0}\n",
    "\n",
    "        start_time_bool = hypnogram_df.start_time <= row.start_time\n",
    "        start_row = np.argmin(start_time_bool) - 1 if np.sum(start_time_bool) < len(hypnogram_df) else len(hypnogram_df) - 1\n",
    "        end_time_bool = hypnogram_df.end_time > row.end_time\n",
    "        end_row = np.argmax(end_time_bool) if np.sum(end_time_bool) > 0 else len(hypnogram_df) - 1\n",
    "\n",
    "        for row_ind in range(start_row, end_row + 1):\n",
    "            row2 = hypnogram_df.iloc[row_ind]\n",
    "\n",
    "            if row2.start_time <= row.start_time:\n",
    "                start_in_chunk = row.start_time - row2.start_time\n",
    "            else:\n",
    "                start_in_chunk = 0\n",
    "\n",
    "            if row2.end_time <= row.end_time:\n",
    "                end_in_chunk = row2.duration\n",
    "            else:\n",
    "                end_in_chunk = row.end_time - row2.start_time\n",
    "\n",
    "            sleep_stage_counts[row2.sleep_stage] += end_in_chunk - start_in_chunk\n",
    "\n",
    "        VAR_results[area][window].loc[i, 'sleep_stage'] = max(sleep_stage_counts, key=sleep_stage_counts.get)"
   ]
  },
  {
   "cell_type": "code",
   "execution_count": 32,
   "id": "752dfb48",
   "metadata": {},
   "outputs": [
    {
     "data": {
      "image/png": "[encoded data removed]",
      "text/plain": [
       "<Figure size 864x360 with 1 Axes>"
      ]
     },
     "metadata": {
      "needs_background": "light"
     },
     "output_type": "display_data"
    }
   ],
   "source": [
    "area = 'frontal'\n",
    "plt.figure(figsize=(12, 5))\n",
    "mean_criticality_sleep_stage = []\n",
    "std_error_sleep_stage = []\n",
    "sleep_stage = []\n",
    "sleep_stage_colors = []\n",
    "for s in colors.keys():\n",
    "    if s != '?' and s != 'e':\n",
    "        if np.sum(VAR_results[area][window].sleep_stage == s) > 0:\n",
    "            sleep_stage.append(s)\n",
    "            all_inds = np.vstack(VAR_results[area][window][VAR_results[area][window].sleep_stage == s].criticality_inds.to_numpy()).flatten()\n",
    "            mean_criticality_sleep_stage.append(all_inds.mean())\n",
    "            std_error_sleep_stage.append(all_inds.std()/np.sqrt(len(all_inds)))\n",
    "            sleep_stage_colors.append(colors[s])\n",
    "\n",
    "plt.bar(sleep_stage, mean_criticality_sleep_stage, yerr=std_error_sleep_stage, color=sleep_stage_colors)\n",
    "plt.ylim([np.min(mean_criticality_sleep_stage)*0.97, np.max(mean_criticality_sleep_stage)*1.01])\n",
    "plt.ylabel(\"Mean Criticality Index\", fontsize=14)\n",
    "plt.tick_params(labelsize=13)\n",
    "plt.title(f\"Mean Criticality Binned for Subject {sub} Day {day}\\narea = {area}\\n{window} second Windows\", fontsize=18)\n",
    "plt.show()"
   ]
  },
  {
   "cell_type": "code",
   "execution_count": null,
   "id": "0c1d64d0",
   "metadata": {},
   "outputs": [],
   "source": []
  }
 ],
 "metadata": {
  "kernelspec": {
   "display_name": "Python 3 (ipykernel)",
   "language": "python",
   "name": "python3"
  },
  "language_info": {
   "codemirror_mode": {
    "name": "ipython",
    "version": 3
   },
   "file_extension": ".py",
   "mimetype": "text/x-python",
   "name": "python",
   "nbconvert_exporter": "python",
   "pygments_lexer": "ipython3",
   "version": "3.9.1"
  }
 },
 "nbformat": 4,
 "nbformat_minor": 5
}
