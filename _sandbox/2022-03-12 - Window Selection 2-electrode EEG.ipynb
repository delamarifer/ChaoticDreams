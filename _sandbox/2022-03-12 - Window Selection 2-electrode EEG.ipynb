{
 "cells": [
  {
   "cell_type": "code",
   "execution_count": 1,
   "id": "fb7694a7",
   "metadata": {},
   "outputs": [],
   "source": [
    "import matplotlib.pyplot as plt\n",
    "import mne\n",
    "import numpy as np\n",
    "import os\n",
    "import pandas as pd\n",
    "import re\n",
    "import sys\n",
    "from tqdm.auto import tqdm\n",
    "\n",
    "sys.path.append('..')\n",
    "from dynamical_models import compute_VAR"
   ]
  },
  {
   "cell_type": "markdown",
   "id": "1a8caec4",
   "metadata": {},
   "source": [
    "# Load Data"
   ]
  },
  {
   "cell_type": "code",
   "execution_count": 2,
   "id": "63e6e23b",
   "metadata": {},
   "outputs": [],
   "source": [
    "dt = 0.01\n",
    "subject_id = 'SC4001'\n",
    "# subject_id = 'SC4401'\n",
    "# subject_id = 'SC4591'\n",
    "# subject_id = 'ST7011'\n",
    "\n",
    "all_data_dir = os.path.join(\"/om/user/eisenaj/datasets/sleep/sleep-edf-database\")"
   ]
  },
  {
   "cell_type": "code",
   "execution_count": 3,
   "id": "35ddfa7b",
   "metadata": {},
   "outputs": [
    {
     "name": "stdout",
     "output_type": "stream",
     "text": [
      "Extracting EDF parameters from /om/user/eisenaj/datasets/sleep/sleep-edf-database/sleep-cassette/SC4001E0-PSG.edf...\n",
      "EDF file detected\n",
      "Setting channel info structure...\n",
      "Creating raw.info structure...\n"
     ]
    }
   ],
   "source": [
    "if subject_id[1] == 'C':\n",
    "    data_folder = os.path.join(all_data_dir, 'sleep-cassette')\n",
    "else: # subject_id[1] == 'T'\n",
    "    data_folder = os.path.join(all_data_dir, 'sleep-telemetry')\n",
    "\n",
    "eeg_regex = re.compile(f\"{subject_id}\" + \".{2}-PSG.edf\")\n",
    "hypnogram_regex = re.compile(f\"{subject_id}\" + \".{2}-Hypnogram.edf\")\n",
    "\n",
    "eeg_path = None\n",
    "hypnogram_path = None\n",
    "for file_name in os.listdir(data_folder):\n",
    "    if eeg_regex.match(file_name):\n",
    "        eeg_path = os.path.join(data_folder, file_name)\n",
    "    elif hypnogram_regex.match(file_name):\n",
    "        hypnogram_path = os.path.join(data_folder, file_name)\n",
    "\n",
    "if eeg_path is None or hypnogram_path is None:\n",
    "    print(f\"Failed to find data for subject ID {subject_id}\")\n",
    "\n",
    "eeg = mne.io.read_raw_edf(eeg_path)\n",
    "eeg_df = eeg.to_data_frame()\n",
    "hypnogram = mne.read_annotations(hypnogram_path)\n",
    "hypnogram_df = hypnogram.to_data_frame()"
   ]
  },
  {
   "cell_type": "code",
   "execution_count": 4,
   "id": "598630b6",
   "metadata": {},
   "outputs": [],
   "source": [
    "start_time = 0\n",
    "hypnogram_df['sleep_stage'] = [None]*len(hypnogram_df)\n",
    "hypnogram_df['start_time'] = [None]*len(hypnogram_df)\n",
    "hypnogram_df['end_time'] = [None]*len(hypnogram_df)\n",
    "for i, row in hypnogram_df.iterrows():\n",
    "    hypnogram_df.loc[i, 'sleep_stage'] = row.description[-1]\n",
    "    hypnogram_df.loc[i, 'start_time'] = start_time\n",
    "    hypnogram_df.loc[i, 'end_time'] = start_time + row.duration\n",
    "    start_time += row.duration"
   ]
  },
  {
   "cell_type": "code",
   "execution_count": 5,
   "id": "4d375678",
   "metadata": {},
   "outputs": [
    {
     "data": {
      "application/vnd.jupyter.widget-view+json": {
       "model_id": "d896909eae39416b9556f392bda36cee",
       "version_major": 2,
       "version_minor": 0
      },
      "text/plain": [
       "  0%|          | 0/154 [00:00<?, ?it/s]"
      ]
     },
     "metadata": {},
     "output_type": "display_data"
    }
   ],
   "source": [
    "eeg_df['sleep_stage'] = [None]*len(eeg_df)\n",
    "place_in_session = 0\n",
    "for i, row in tqdm(hypnogram_df.iterrows(), total=len(hypnogram_df)):\n",
    "    if i == 0:\n",
    "        indices = eeg_df.time <= place_in_session + int(row.duration/0.001)\n",
    "    else:\n",
    "        indices = np.logical_and(eeg_df.time > place_in_session, eeg_df.time <= place_in_session + int(row.duration/0.001))\n",
    "    eeg_df.loc[indices, 'sleep_stage'] = row.description[-1]\n",
    "    place_in_session += int(row.duration/0.001)"
   ]
  },
  {
   "cell_type": "markdown",
   "id": "ea2d6c25",
   "metadata": {},
   "source": [
    "## Window Selection"
   ]
  },
  {
   "cell_type": "code",
   "execution_count": 6,
   "id": "f4a64af6",
   "metadata": {},
   "outputs": [],
   "source": [
    "all_eeg = np.zeros((len(eeg_df), 2))\n",
    "all_eeg[:, 0] = eeg_df['EEG Fpz-Cz']\n",
    "all_eeg[:, 1] = eeg_df['EEG Pz-Oz']"
   ]
  },
  {
   "cell_type": "code",
   "execution_count": 7,
   "id": "d3d739ba",
   "metadata": {},
   "outputs": [],
   "source": [
    "VAR_results = {}\n",
    "# windows = [int(w) if w % 1 == 0 else w for w in np.arange(0.5, 10.5, 0.5)]\n",
    "windows = [0.2, 0.3, 0.4, 0.5, 1, 1.5, 2, 2.5, 3, 3.5, 4, 4.5, 5, 6, 6.5, 7, 7.5, 8, 8.5, 9, 9.5, 10]"
   ]
  },
  {
   "cell_type": "code",
   "execution_count": 8,
   "id": "e646ffc4",
   "metadata": {},
   "outputs": [
    {
     "name": "stdout",
     "output_type": "stream",
     "text": [
      "now computing window = 0.2\n"
     ]
    },
    {
     "data": {
      "application/vnd.jupyter.widget-view+json": {
       "model_id": "bd90a33ad88b4256866737e02293897f",
       "version_major": 2,
       "version_minor": 0
      },
      "text/plain": [
       "  0%|          | 0/397500 [00:00<?, ?it/s]"
      ]
     },
     "metadata": {},
     "output_type": "display_data"
    },
    {
     "name": "stdout",
     "output_type": "stream",
     "text": [
      "now computing window = 0.3\n"
     ]
    },
    {
     "data": {
      "application/vnd.jupyter.widget-view+json": {
       "model_id": "6925ab0786fd443c9907038082718ec6",
       "version_major": 2,
       "version_minor": 0
      },
      "text/plain": [
       "  0%|          | 0/265000 [00:00<?, ?it/s]"
      ]
     },
     "metadata": {},
     "output_type": "display_data"
    },
    {
     "name": "stdout",
     "output_type": "stream",
     "text": [
      "now computing window = 0.4\n"
     ]
    },
    {
     "data": {
      "application/vnd.jupyter.widget-view+json": {
       "model_id": "5b8ab0b393d2431b96d159ddac72df93",
       "version_major": 2,
       "version_minor": 0
      },
      "text/plain": [
       "  0%|          | 0/198750 [00:00<?, ?it/s]"
      ]
     },
     "metadata": {},
     "output_type": "display_data"
    },
    {
     "name": "stdout",
     "output_type": "stream",
     "text": [
      "now computing window = 0.5\n"
     ]
    },
    {
     "data": {
      "application/vnd.jupyter.widget-view+json": {
       "model_id": "27169ed111f640ddb256559b19cdeb59",
       "version_major": 2,
       "version_minor": 0
      },
      "text/plain": [
       "  0%|          | 0/159000 [00:00<?, ?it/s]"
      ]
     },
     "metadata": {},
     "output_type": "display_data"
    },
    {
     "name": "stdout",
     "output_type": "stream",
     "text": [
      "now computing window = 1\n"
     ]
    },
    {
     "data": {
      "application/vnd.jupyter.widget-view+json": {
       "model_id": "eb7bff4635dd45e889ee46ffc9bdc497",
       "version_major": 2,
       "version_minor": 0
      },
      "text/plain": [
       "  0%|          | 0/79500 [00:00<?, ?it/s]"
      ]
     },
     "metadata": {},
     "output_type": "display_data"
    },
    {
     "name": "stdout",
     "output_type": "stream",
     "text": [
      "now computing window = 1.5\n"
     ]
    },
    {
     "data": {
      "application/vnd.jupyter.widget-view+json": {
       "model_id": "d9025407274f48b6bf04047b82ad54df",
       "version_major": 2,
       "version_minor": 0
      },
      "text/plain": [
       "  0%|          | 0/53000 [00:00<?, ?it/s]"
      ]
     },
     "metadata": {},
     "output_type": "display_data"
    },
    {
     "name": "stdout",
     "output_type": "stream",
     "text": [
      "now computing window = 2\n"
     ]
    },
    {
     "data": {
      "application/vnd.jupyter.widget-view+json": {
       "model_id": "99bda62103ef458c84e00cb0efd46ed1",
       "version_major": 2,
       "version_minor": 0
      },
      "text/plain": [
       "  0%|          | 0/39750 [00:00<?, ?it/s]"
      ]
     },
     "metadata": {},
     "output_type": "display_data"
    },
    {
     "name": "stdout",
     "output_type": "stream",
     "text": [
      "now computing window = 2.5\n"
     ]
    },
    {
     "data": {
      "application/vnd.jupyter.widget-view+json": {
       "model_id": "191f2ebac07a46cf914ad00bcf9f750d",
       "version_major": 2,
       "version_minor": 0
      },
      "text/plain": [
       "  0%|          | 0/31800 [00:00<?, ?it/s]"
      ]
     },
     "metadata": {},
     "output_type": "display_data"
    },
    {
     "name": "stdout",
     "output_type": "stream",
     "text": [
      "now computing window = 3\n"
     ]
    },
    {
     "data": {
      "application/vnd.jupyter.widget-view+json": {
       "model_id": "f15afe35b2df4aa99285dde607165121",
       "version_major": 2,
       "version_minor": 0
      },
      "text/plain": [
       "  0%|          | 0/26500 [00:00<?, ?it/s]"
      ]
     },
     "metadata": {},
     "output_type": "display_data"
    },
    {
     "name": "stdout",
     "output_type": "stream",
     "text": [
      "now computing window = 3.5\n"
     ]
    },
    {
     "data": {
      "application/vnd.jupyter.widget-view+json": {
       "model_id": "c7ab21f3ab2849d3a15ea46f1e4adb1a",
       "version_major": 2,
       "version_minor": 0
      },
      "text/plain": [
       "  0%|          | 0/22714 [00:00<?, ?it/s]"
      ]
     },
     "metadata": {},
     "output_type": "display_data"
    },
    {
     "name": "stdout",
     "output_type": "stream",
     "text": [
      "now computing window = 4\n"
     ]
    },
    {
     "data": {
      "application/vnd.jupyter.widget-view+json": {
       "model_id": "ffbda110b647455e9cb054dd80acbbda",
       "version_major": 2,
       "version_minor": 0
      },
      "text/plain": [
       "  0%|          | 0/19875 [00:00<?, ?it/s]"
      ]
     },
     "metadata": {},
     "output_type": "display_data"
    },
    {
     "name": "stdout",
     "output_type": "stream",
     "text": [
      "now computing window = 4.5\n"
     ]
    },
    {
     "data": {
      "application/vnd.jupyter.widget-view+json": {
       "model_id": "7489f07dbb6e46719589c8d224668c07",
       "version_major": 2,
       "version_minor": 0
      },
      "text/plain": [
       "  0%|          | 0/17666 [00:00<?, ?it/s]"
      ]
     },
     "metadata": {},
     "output_type": "display_data"
    },
    {
     "name": "stdout",
     "output_type": "stream",
     "text": [
      "now computing window = 5\n"
     ]
    },
    {
     "data": {
      "application/vnd.jupyter.widget-view+json": {
       "model_id": "cd645969d089415d990cea5641eedd8a",
       "version_major": 2,
       "version_minor": 0
      },
      "text/plain": [
       "  0%|          | 0/15900 [00:00<?, ?it/s]"
      ]
     },
     "metadata": {},
     "output_type": "display_data"
    },
    {
     "name": "stdout",
     "output_type": "stream",
     "text": [
      "now computing window = 6\n"
     ]
    },
    {
     "data": {
      "application/vnd.jupyter.widget-view+json": {
       "model_id": "d4194de674214ac3b5bf42618043851a",
       "version_major": 2,
       "version_minor": 0
      },
      "text/plain": [
       "  0%|          | 0/13250 [00:00<?, ?it/s]"
      ]
     },
     "metadata": {},
     "output_type": "display_data"
    },
    {
     "name": "stdout",
     "output_type": "stream",
     "text": [
      "now computing window = 6.5\n"
     ]
    },
    {
     "data": {
      "application/vnd.jupyter.widget-view+json": {
       "model_id": "a39775a835b243bf92deb218c4826d07",
       "version_major": 2,
       "version_minor": 0
      },
      "text/plain": [
       "  0%|          | 0/12230 [00:00<?, ?it/s]"
      ]
     },
     "metadata": {},
     "output_type": "display_data"
    },
    {
     "name": "stdout",
     "output_type": "stream",
     "text": [
      "now computing window = 7\n"
     ]
    },
    {
     "data": {
      "application/vnd.jupyter.widget-view+json": {
       "model_id": "e2d940d44f5d4bf2858743b1b4e267c9",
       "version_major": 2,
       "version_minor": 0
      },
      "text/plain": [
       "  0%|          | 0/11357 [00:00<?, ?it/s]"
      ]
     },
     "metadata": {},
     "output_type": "display_data"
    },
    {
     "name": "stdout",
     "output_type": "stream",
     "text": [
      "now computing window = 7.5\n"
     ]
    },
    {
     "data": {
      "application/vnd.jupyter.widget-view+json": {
       "model_id": "64fd6a01f0a441b9a16ae2f2cca00b13",
       "version_major": 2,
       "version_minor": 0
      },
      "text/plain": [
       "  0%|          | 0/10600 [00:00<?, ?it/s]"
      ]
     },
     "metadata": {},
     "output_type": "display_data"
    },
    {
     "name": "stdout",
     "output_type": "stream",
     "text": [
      "now computing window = 8\n"
     ]
    },
    {
     "data": {
      "application/vnd.jupyter.widget-view+json": {
       "model_id": "5564fd399d2e489eab4298b67e91aba8",
       "version_major": 2,
       "version_minor": 0
      },
      "text/plain": [
       "  0%|          | 0/9937 [00:00<?, ?it/s]"
      ]
     },
     "metadata": {},
     "output_type": "display_data"
    },
    {
     "name": "stdout",
     "output_type": "stream",
     "text": [
      "now computing window = 8.5\n"
     ]
    },
    {
     "data": {
      "application/vnd.jupyter.widget-view+json": {
       "model_id": "816f1617f36d4e9a913739d41343eae2",
       "version_major": 2,
       "version_minor": 0
      },
      "text/plain": [
       "  0%|          | 0/9352 [00:00<?, ?it/s]"
      ]
     },
     "metadata": {},
     "output_type": "display_data"
    },
    {
     "name": "stdout",
     "output_type": "stream",
     "text": [
      "now computing window = 9\n"
     ]
    },
    {
     "data": {
      "application/vnd.jupyter.widget-view+json": {
       "model_id": "cca9d0ebac9c46189ffaefa7ce177b91",
       "version_major": 2,
       "version_minor": 0
      },
      "text/plain": [
       "  0%|          | 0/8833 [00:00<?, ?it/s]"
      ]
     },
     "metadata": {},
     "output_type": "display_data"
    },
    {
     "name": "stdout",
     "output_type": "stream",
     "text": [
      "now computing window = 9.5\n"
     ]
    },
    {
     "data": {
      "application/vnd.jupyter.widget-view+json": {
       "model_id": "9f88017211b3443ca8b843ef144f2fb9",
       "version_major": 2,
       "version_minor": 0
      },
      "text/plain": [
       "  0%|          | 0/8368 [00:00<?, ?it/s]"
      ]
     },
     "metadata": {},
     "output_type": "display_data"
    },
    {
     "name": "stdout",
     "output_type": "stream",
     "text": [
      "now computing window = 10\n"
     ]
    },
    {
     "data": {
      "application/vnd.jupyter.widget-view+json": {
       "model_id": "b8473114e7d942e18011395108782abd",
       "version_major": 2,
       "version_minor": 0
      },
      "text/plain": [
       "  0%|          | 0/7950 [00:00<?, ?it/s]"
      ]
     },
     "metadata": {},
     "output_type": "display_data"
    }
   ],
   "source": [
    "for window in windows:\n",
    "    print(f\"now computing window = {window}\")\n",
    "    stride = window\n",
    "\n",
    "    num_windows = int(np.floor((all_eeg.shape[0]-int(window/dt))/int(stride/dt))+1)\n",
    "\n",
    "    all_results = []\n",
    "    for i in tqdm(range(num_windows)):\n",
    "        start_ind = int(i*stride/dt)\n",
    "        end_ind = int((i*stride + window)/dt)\n",
    "        window_data = all_eeg[start_ind:end_ind]\n",
    "\n",
    "        try:\n",
    "            results = compute_VAR(window_data)\n",
    "            results['start_time'] = i*stride\n",
    "            results['start_time_ms'] = i*stride*1000\n",
    "            results['start_ind'] = start_ind\n",
    "            results['end_time'] = i*stride + window\n",
    "            results['end_time_ms'] = (i*stride + window)*1000\n",
    "            results['end_ind'] = end_ind\n",
    "            all_results.append(results)\n",
    "        except:\n",
    "            pass\n",
    "            # sometimes this doesn't work because the EEG isn't aligned at the beginning/end\n",
    "    VAR_results[window] = pd.DataFrame(all_results)"
   ]
  },
  {
   "cell_type": "code",
   "execution_count": 9,
   "id": "3afdd0f3",
   "metadata": {},
   "outputs": [],
   "source": [
    "T_pred = 10\n",
    "\n",
    "predictions = {}\n",
    "true_vals = {}\n",
    "step_mse = {}"
   ]
  },
  {
   "cell_type": "code",
   "execution_count": 11,
   "id": "f3344575",
   "metadata": {},
   "outputs": [
    {
     "name": "stdout",
     "output_type": "stream",
     "text": [
      "Now computing window = 0.2\n"
     ]
    },
    {
     "data": {
      "application/vnd.jupyter.widget-view+json": {
       "model_id": "79b54fb7eb4f4ab8bb06c528b4cada86",
       "version_major": 2,
       "version_minor": 0
      },
      "text/plain": [
       "  0%|          | 0/397499 [00:00<?, ?it/s]"
      ]
     },
     "metadata": {},
     "output_type": "display_data"
    },
    {
     "name": "stdout",
     "output_type": "stream",
     "text": [
      "Now computing window = 0.3\n"
     ]
    },
    {
     "data": {
      "application/vnd.jupyter.widget-view+json": {
       "model_id": "acab6e98a095454895128a062b6b8d04",
       "version_major": 2,
       "version_minor": 0
      },
      "text/plain": [
       "  0%|          | 0/264999 [00:00<?, ?it/s]"
      ]
     },
     "metadata": {},
     "output_type": "display_data"
    },
    {
     "name": "stdout",
     "output_type": "stream",
     "text": [
      "Now computing window = 0.4\n"
     ]
    },
    {
     "data": {
      "application/vnd.jupyter.widget-view+json": {
       "model_id": "dce163fd10ac484b89acd4955defe5d0",
       "version_major": 2,
       "version_minor": 0
      },
      "text/plain": [
       "  0%|          | 0/198749 [00:00<?, ?it/s]"
      ]
     },
     "metadata": {},
     "output_type": "display_data"
    },
    {
     "name": "stdout",
     "output_type": "stream",
     "text": [
      "Now computing window = 0.5\n"
     ]
    },
    {
     "data": {
      "application/vnd.jupyter.widget-view+json": {
       "model_id": "bb731355ab2448b8bd6f9f063f36fe62",
       "version_major": 2,
       "version_minor": 0
      },
      "text/plain": [
       "  0%|          | 0/158999 [00:00<?, ?it/s]"
      ]
     },
     "metadata": {},
     "output_type": "display_data"
    },
    {
     "name": "stdout",
     "output_type": "stream",
     "text": [
      "Now computing window = 1\n"
     ]
    },
    {
     "data": {
      "application/vnd.jupyter.widget-view+json": {
       "model_id": "802792c24e1e406b9af4affee64e9130",
       "version_major": 2,
       "version_minor": 0
      },
      "text/plain": [
       "  0%|          | 0/79499 [00:00<?, ?it/s]"
      ]
     },
     "metadata": {},
     "output_type": "display_data"
    },
    {
     "name": "stdout",
     "output_type": "stream",
     "text": [
      "Now computing window = 1.5\n"
     ]
    },
    {
     "data": {
      "application/vnd.jupyter.widget-view+json": {
       "model_id": "7bebbc07299c413ab87919cf1df2ad80",
       "version_major": 2,
       "version_minor": 0
      },
      "text/plain": [
       "  0%|          | 0/52999 [00:00<?, ?it/s]"
      ]
     },
     "metadata": {},
     "output_type": "display_data"
    },
    {
     "name": "stdout",
     "output_type": "stream",
     "text": [
      "Now computing window = 2\n"
     ]
    },
    {
     "data": {
      "application/vnd.jupyter.widget-view+json": {
       "model_id": "b808876dcbc64d5bb35c1c76a16000ab",
       "version_major": 2,
       "version_minor": 0
      },
      "text/plain": [
       "  0%|          | 0/39749 [00:00<?, ?it/s]"
      ]
     },
     "metadata": {},
     "output_type": "display_data"
    },
    {
     "name": "stdout",
     "output_type": "stream",
     "text": [
      "Now computing window = 2.5\n"
     ]
    },
    {
     "data": {
      "application/vnd.jupyter.widget-view+json": {
       "model_id": "667af9721c984a369440c11d0a4b5be2",
       "version_major": 2,
       "version_minor": 0
      },
      "text/plain": [
       "  0%|          | 0/31799 [00:00<?, ?it/s]"
      ]
     },
     "metadata": {},
     "output_type": "display_data"
    },
    {
     "name": "stdout",
     "output_type": "stream",
     "text": [
      "Now computing window = 3\n"
     ]
    },
    {
     "data": {
      "application/vnd.jupyter.widget-view+json": {
       "model_id": "823c0f0f43064ac3909e79ab60dbe661",
       "version_major": 2,
       "version_minor": 0
      },
      "text/plain": [
       "  0%|          | 0/26499 [00:00<?, ?it/s]"
      ]
     },
     "metadata": {},
     "output_type": "display_data"
    },
    {
     "name": "stdout",
     "output_type": "stream",
     "text": [
      "Now computing window = 3.5\n"
     ]
    },
    {
     "data": {
      "application/vnd.jupyter.widget-view+json": {
       "model_id": "f7a99a4daf0e41b0a91f5467efc088de",
       "version_major": 2,
       "version_minor": 0
      },
      "text/plain": [
       "  0%|          | 0/22713 [00:00<?, ?it/s]"
      ]
     },
     "metadata": {},
     "output_type": "display_data"
    },
    {
     "name": "stdout",
     "output_type": "stream",
     "text": [
      "Now computing window = 4\n"
     ]
    },
    {
     "data": {
      "application/vnd.jupyter.widget-view+json": {
       "model_id": "3367ac9c756a4cb78628454d4275c3db",
       "version_major": 2,
       "version_minor": 0
      },
      "text/plain": [
       "  0%|          | 0/19874 [00:00<?, ?it/s]"
      ]
     },
     "metadata": {},
     "output_type": "display_data"
    },
    {
     "name": "stdout",
     "output_type": "stream",
     "text": [
      "Now computing window = 4.5\n"
     ]
    },
    {
     "data": {
      "application/vnd.jupyter.widget-view+json": {
       "model_id": "986b895ab26d46f0a1f0e3af4f0078c0",
       "version_major": 2,
       "version_minor": 0
      },
      "text/plain": [
       "  0%|          | 0/17665 [00:00<?, ?it/s]"
      ]
     },
     "metadata": {},
     "output_type": "display_data"
    },
    {
     "name": "stdout",
     "output_type": "stream",
     "text": [
      "Now computing window = 5\n"
     ]
    },
    {
     "data": {
      "application/vnd.jupyter.widget-view+json": {
       "model_id": "385559b8a4c2411784f34103fed65542",
       "version_major": 2,
       "version_minor": 0
      },
      "text/plain": [
       "  0%|          | 0/15899 [00:00<?, ?it/s]"
      ]
     },
     "metadata": {},
     "output_type": "display_data"
    },
    {
     "name": "stdout",
     "output_type": "stream",
     "text": [
      "Now computing window = 6\n"
     ]
    },
    {
     "data": {
      "application/vnd.jupyter.widget-view+json": {
       "model_id": "e93d7f07281c49b2855779088edddf33",
       "version_major": 2,
       "version_minor": 0
      },
      "text/plain": [
       "  0%|          | 0/13249 [00:00<?, ?it/s]"
      ]
     },
     "metadata": {},
     "output_type": "display_data"
    },
    {
     "name": "stdout",
     "output_type": "stream",
     "text": [
      "Now computing window = 6.5\n"
     ]
    },
    {
     "data": {
      "application/vnd.jupyter.widget-view+json": {
       "model_id": "0a4a63756f8a498185d226fd9cbe551e",
       "version_major": 2,
       "version_minor": 0
      },
      "text/plain": [
       "  0%|          | 0/12229 [00:00<?, ?it/s]"
      ]
     },
     "metadata": {},
     "output_type": "display_data"
    },
    {
     "name": "stdout",
     "output_type": "stream",
     "text": [
      "Now computing window = 7\n"
     ]
    },
    {
     "data": {
      "application/vnd.jupyter.widget-view+json": {
       "model_id": "e80a95f43acb44bf819a97ed2f9f1aa1",
       "version_major": 2,
       "version_minor": 0
      },
      "text/plain": [
       "  0%|          | 0/11356 [00:00<?, ?it/s]"
      ]
     },
     "metadata": {},
     "output_type": "display_data"
    },
    {
     "name": "stdout",
     "output_type": "stream",
     "text": [
      "Now computing window = 7.5\n"
     ]
    },
    {
     "data": {
      "application/vnd.jupyter.widget-view+json": {
       "model_id": "b59ade9889524d39af650a7f1522eded",
       "version_major": 2,
       "version_minor": 0
      },
      "text/plain": [
       "  0%|          | 0/10599 [00:00<?, ?it/s]"
      ]
     },
     "metadata": {},
     "output_type": "display_data"
    },
    {
     "name": "stdout",
     "output_type": "stream",
     "text": [
      "Now computing window = 8\n"
     ]
    },
    {
     "data": {
      "application/vnd.jupyter.widget-view+json": {
       "model_id": "66699d3b81424246abf991d6ed4180d5",
       "version_major": 2,
       "version_minor": 0
      },
      "text/plain": [
       "  0%|          | 0/9936 [00:00<?, ?it/s]"
      ]
     },
     "metadata": {},
     "output_type": "display_data"
    },
    {
     "name": "stdout",
     "output_type": "stream",
     "text": [
      "Now computing window = 8.5\n"
     ]
    },
    {
     "data": {
      "application/vnd.jupyter.widget-view+json": {
       "model_id": "34206a5c7027422b8be084592bbc1077",
       "version_major": 2,
       "version_minor": 0
      },
      "text/plain": [
       "  0%|          | 0/9351 [00:00<?, ?it/s]"
      ]
     },
     "metadata": {},
     "output_type": "display_data"
    },
    {
     "name": "stdout",
     "output_type": "stream",
     "text": [
      "Now computing window = 9\n"
     ]
    },
    {
     "data": {
      "application/vnd.jupyter.widget-view+json": {
       "model_id": "995ccda75a024641adde68050cd1abe9",
       "version_major": 2,
       "version_minor": 0
      },
      "text/plain": [
       "  0%|          | 0/8832 [00:00<?, ?it/s]"
      ]
     },
     "metadata": {},
     "output_type": "display_data"
    },
    {
     "name": "stdout",
     "output_type": "stream",
     "text": [
      "Now computing window = 9.5\n"
     ]
    },
    {
     "data": {
      "application/vnd.jupyter.widget-view+json": {
       "model_id": "e89c2703f1d0416f872e14622730a023",
       "version_major": 2,
       "version_minor": 0
      },
      "text/plain": [
       "  0%|          | 0/8367 [00:00<?, ?it/s]"
      ]
     },
     "metadata": {},
     "output_type": "display_data"
    },
    {
     "name": "stdout",
     "output_type": "stream",
     "text": [
      "Now computing window = 10\n"
     ]
    },
    {
     "data": {
      "application/vnd.jupyter.widget-view+json": {
       "model_id": "e7cc862e0463444bb17f5a15cddaf715",
       "version_major": 2,
       "version_minor": 0
      },
      "text/plain": [
       "  0%|          | 0/7949 [00:00<?, ?it/s]"
      ]
     },
     "metadata": {},
     "output_type": "display_data"
    }
   ],
   "source": [
    "for window in windows:\n",
    "    stride = window\n",
    "    print(f\"Now computing window = {window}\")\n",
    "    predictions[window] = np.zeros((len(VAR_results[window]) - 1, T_pred, all_eeg.shape[1]))\n",
    "    true_vals[window] = np.zeros(predictions[window].shape)\n",
    "\n",
    "    for i in tqdm(range(predictions[window].shape[0])):\n",
    "        row = VAR_results[window].iloc[i]\n",
    "        start_step = int(stride*i/dt)\n",
    "#         x0 = all_eeg[start_step + int(window/dt) - 1]\n",
    "\n",
    "        for t in range(T_pred):\n",
    "            predictions[window][i, t] = np.hstack([[1], all_eeg[start_step + int(window/dt) - 1 + t]]) @ row.A_mat_with_bias\n",
    "#             if t == 0:\n",
    "#                 predictions[window][i, t] = np.hstack([[1], x0]) @ row.A_mat_with_bias\n",
    "#             else:\n",
    "#                 predictions[window][i, t] = np.hstack([[1], predictions[window][i, t - 1]]) @ row.A_mat_with_bias\n",
    "\n",
    "        true_vals[window][i] = all_eeg[start_step + int(window/dt):start_step + int(window/dt) + T_pred]\n",
    "\n",
    "    step_mse[window] = ((predictions[window] - true_vals[window])**2).mean(axis=2)"
   ]
  },
  {
   "cell_type": "code",
   "execution_count": 12,
   "id": "0b52c907",
   "metadata": {},
   "outputs": [],
   "source": [
    "window_mses = [step_mse[window][:].mean() for window in windows]"
   ]
  },
  {
   "cell_type": "code",
   "execution_count": 19,
   "id": "796da3e4",
   "metadata": {},
   "outputs": [
    {
     "data": {
      "image/png": "[encoded data removed]",
      "text/plain": [
       "<Figure size 864x576 with 1 Axes>"
      ]
     },
     "metadata": {
      "needs_background": "light"
     },
     "output_type": "display_data"
    }
   ],
   "source": [
    "selected_windows = {}\n",
    "plt.figure(figsize=(12, 8))\n",
    "pred_steps = 10\n",
    "pct_of_value = 0.95\n",
    "window_mses = [step_mse[window][:].mean() for window in windows]\n",
    "    \n",
    "asymptotic_value = np.array(window_mses).min()\n",
    "asymptotic_ind = np.argmin(window_mses)\n",
    "for i in range(len(window_mses)):\n",
    "    if window_mses[i]*pct_of_value <= asymptotic_value or i == asymptotic_ind:\n",
    "        selected_windows = windows[i]\n",
    "        break\n",
    "\n",
    "#     plt.plot(windows, window_mses, label=area)\n",
    "#     plt.plot(selected_windows)\n",
    "    \n",
    "#     ax = axs[int(i/2), i % 2]\n",
    "mse_per_window = np.array([step_mse[window][:].mean() for window in windows])\n",
    "min_val = mse_per_window.min()\n",
    "max_val = mse_per_window.max()\n",
    "mse_per_window -= min_val\n",
    "mse_per_window /= max_val - min_val\n",
    "plt.plot(windows, mse_per_window, label=area)\n",
    "pt = step_mse[selected_windows][:].mean()\n",
    "pt -= min_val\n",
    "pt /= max_val - min_val\n",
    "#         if num == 2 and area == '7b':\n",
    "#             print(mse_per_window*0.95)\n",
    "#             print(pt)\n",
    "plt.scatter(selected_windows, pt, color='k')\n",
    "    \n",
    "plt.xlabel(\"Window Size (s)\", fontsize=14)\n",
    "plt.ylabel(\"MSE\", fontsize=14)\n",
    "plt.title(f\"MSE on 10-Step Forward Prediction for Subject {subject_id}\", fontsize=18)\n",
    "plt.legend(fontsize=14)\n",
    "plt.show()"
   ]
  },
  {
   "cell_type": "code",
   "execution_count": 31,
   "id": "32a6d3e3",
   "metadata": {},
   "outputs": [
    {
     "ename": "AttributeError",
     "evalue": "'dict' object has no attribute 'shape'",
     "output_type": "error",
     "traceback": [
      "\u001b[0;31m---------------------------------------------------------------------------\u001b[0m",
      "\u001b[0;31mAttributeError\u001b[0m                            Traceback (most recent call last)",
      "\u001b[0;32m/tmp/ipykernel_44149/3068955115.py\u001b[0m in \u001b[0;36m<module>\u001b[0;34m\u001b[0m\n\u001b[0;32m----> 1\u001b[0;31m \u001b[0mtrue_vals\u001b[0m\u001b[0;34m.\u001b[0m\u001b[0mshape\u001b[0m\u001b[0;34m\u001b[0m\u001b[0;34m\u001b[0m\u001b[0m\n\u001b[0m",
      "\u001b[0;31mAttributeError\u001b[0m: 'dict' object has no attribute 'shape'"
     ]
    }
   ],
   "source": [
    "true_vals.shape"
   ]
  },
  {
   "cell_type": "code",
   "execution_count": 30,
   "id": "e8dfdc4d",
   "metadata": {},
   "outputs": [
    {
     "data": {
      "image/png": "[encoded data removed]",
      "text/plain": [
       "<Figure size 432x288 with 1 Axes>"
      ]
     },
     "metadata": {
      "needs_background": "light"
     },
     "output_type": "display_data"
    }
   ],
   "source": [
    "window = 0.5\n",
    "window_ind = 2001\n",
    "eeg_ind = 1\n",
    "plt.plot(true_vals[window][window_ind], label='predicted')\n",
    "plt.plot(all_eeg[int((window_ind+1)*window/dt):int((window_ind+1)*window/dt) + T_pred, eeg_ind], label='true')\n",
    "plt.show()"
   ]
  },
  {
   "cell_type": "markdown",
   "id": "e953aa97",
   "metadata": {},
   "source": [
    "# Plot Windows"
   ]
  },
  {
   "cell_type": "code",
   "execution_count": 42,
   "id": "e2724f12",
   "metadata": {},
   "outputs": [
    {
     "data": {
      "image/png": "[encoded data removed]",
      "text/plain": [
       "<Figure size 1152x576 with 1 Axes>"
      ]
     },
     "metadata": {
      "needs_background": "light"
     },
     "output_type": "display_data"
    }
   ],
   "source": [
    "colors = {'W': 'limegreen', '1': 'gold', '2': 'darkorange', '3': 'coral', '4': 'indianred', 'R': 'magenta', '?': 'gray', 'e': 'gray'}\n",
    "\n",
    "plt.figure(figsize=(16, 8))\n",
    "time_vals = VAR_results[selected_windows].start_time/3600\n",
    "# plt.plot(time_vals, eeg_df['EEG Fpz-Cz'])\n",
    "# plt.plot(time_vals, eeg_df['EEG Pz-Oz'])\n",
    "criticality_inds = VAR_results[selected_windows].criticality_inds.apply(lambda x: x.mean())\n",
    "std_errors = VAR_results[selected_windows].criticality_inds.apply(lambda x: x.std()/np.sqrt(len(x)))\n",
    "plt.plot(time_vals, criticality_inds)\n",
    "plt.fill_between(time_vals, criticality_inds - std_errors, criticality_inds + std_errors, alpha=0.3, color='C0')\n",
    "min_val = (criticality_inds - std_errors).min()\n",
    "max_val = (criticality_inds + std_errors).max()\n",
    "place_in_session = 0\n",
    "\n",
    "seen = {}\n",
    "for stage in colors.keys():\n",
    "    seen[stage] = False\n",
    "for _, row in hypnogram_df.iterrows():\n",
    "    plt.fill_between(np.arange(row.start_time, row.end_time)/3600, min_val, max_val, color=colors[row.sleep_stage], label=row.sleep_stage if not seen[row.sleep_stage] else \"\", alpha=0.2)\n",
    "    seen[row.sleep_stage] = True\n",
    "plt.xlabel(\"Time in Session (hours)\", fontsize=14)\n",
    "plt.ylabel(\"Mean Criticality Index\", fontsize=14)\n",
    "plt.tick_params(labelsize=13)\n",
    "plt.title(f\"Mean Criticality for Single Participant\\n{selected_windows} second Windows\", fontsize=18)\n",
    "# plt.xlim([9, 10])\n",
    "plt.legend()\n",
    "plt.show()"
   ]
  },
  {
   "cell_type": "code",
   "execution_count": 35,
   "id": "aafc34e5",
   "metadata": {},
   "outputs": [
    {
     "data": {
      "application/vnd.jupyter.widget-view+json": {
       "model_id": "ea0866b8712a433ebc08c58d246aee5c",
       "version_major": 2,
       "version_minor": 0
      },
      "text/plain": [
       "  0%|          | 0/39750 [00:00<?, ?it/s]"
      ]
     },
     "metadata": {},
     "output_type": "display_data"
    }
   ],
   "source": [
    "VAR_results[selected_windows]['sleep_stage'] = [None]*len(VAR_results[selected_windows])\n",
    "for i, row in tqdm(VAR_results[selected_windows].iterrows(), total=len(VAR_results[selected_windows])):\n",
    "    sleep_stage_counts = {'W': 0, '1': 0, '2': 0, '3': 0, '4': 0, 'R': 0, '?': 0, 'e': 0}\n",
    "    \n",
    "    start_time_bool = hypnogram_df.start_time <= row.start_time\n",
    "    start_row = np.argmin(start_time_bool) - 1 if np.sum(start_time_bool) < len(hypnogram_df) else len(hypnogram_df) - 1\n",
    "    end_time_bool = hypnogram_df.end_time > row.end_time\n",
    "    end_row = np.argmax(end_time_bool) if np.sum(end_time_bool) > 0 else len(hypnogram_df) - 1\n",
    "    \n",
    "    for row_ind in range(start_row, end_row + 1):\n",
    "        row2 = hypnogram_df.iloc[row_ind]\n",
    "        \n",
    "        if row2.start_time <= row.start_time:\n",
    "            start_in_chunk = row.start_time - row2.start_time\n",
    "        else:\n",
    "            start_in_chunk = 0\n",
    "        \n",
    "        if row2.end_time <= row.end_time:\n",
    "            end_in_chunk = row2.duration\n",
    "        else:\n",
    "            end_in_chunk = row.end_time - row2.start_time\n",
    "        \n",
    "        sleep_stage_counts[row2.sleep_stage] += end_in_chunk - start_in_chunk\n",
    "            \n",
    "    VAR_results[selected_windows].loc[i, 'sleep_stage'] = max(sleep_stage_counts, key=sleep_stage_counts.get)"
   ]
  },
  {
   "cell_type": "code",
   "execution_count": 37,
   "id": "6e81d05e",
   "metadata": {},
   "outputs": [
    {
     "data": {
      "image/png": "[encoded data removed]",
      "text/plain": [
       "<Figure size 864x360 with 1 Axes>"
      ]
     },
     "metadata": {
      "needs_background": "light"
     },
     "output_type": "display_data"
    }
   ],
   "source": [
    "plt.figure(figsize=(12, 5))\n",
    "mean_criticality_sleep_stage = []\n",
    "std_error_sleep_stage = []\n",
    "sleep_stage = []\n",
    "sleep_stage_colors = []\n",
    "for s in colors.keys():\n",
    "    if s != '?' and s != 'e':\n",
    "        if np.sum(VAR_results[selected_windows].sleep_stage == s) > 0:\n",
    "            sleep_stage.append(s)\n",
    "            all_inds = np.vstack(VAR_results[selected_windows][VAR_results[selected_windows].sleep_stage == s].criticality_inds.to_numpy()).flatten()\n",
    "            mean_criticality_sleep_stage.append(all_inds.mean())\n",
    "            std_error_sleep_stage.append(all_inds.std()/np.sqrt(len(all_inds)))\n",
    "            sleep_stage_colors.append(colors[s])\n",
    "\n",
    "plt.bar(sleep_stage, mean_criticality_sleep_stage, yerr=std_error_sleep_stage, color=sleep_stage_colors)\n",
    "plt.ylim([np.min(mean_criticality_sleep_stage)*0.97, np.max(mean_criticality_sleep_stage)*1.01])\n",
    "plt.ylabel(\"Mean Criticality Index\", fontsize=14)\n",
    "plt.tick_params(labelsize=13)\n",
    "plt.title(f\"Mean Criticality for Single Participant\\n{selected_windows} second Windows\", fontsize=18)\n",
    "plt.show()"
   ]
  },
  {
   "cell_type": "code",
   "execution_count": null,
   "id": "0262c4fb",
   "metadata": {},
   "outputs": [],
   "source": []
  }
 ],
 "metadata": {
  "kernelspec": {
   "display_name": "Python 3 (ipykernel)",
   "language": "python",
   "name": "python3"
  },
  "language_info": {
   "codemirror_mode": {
    "name": "ipython",
    "version": 3
   },
   "file_extension": ".py",
   "mimetype": "text/x-python",
   "name": "python",
   "nbconvert_exporter": "python",
   "pygments_lexer": "ipython3",
   "version": "3.9.1"
  }
 },
 "nbformat": 4,
 "nbformat_minor": 5
}
